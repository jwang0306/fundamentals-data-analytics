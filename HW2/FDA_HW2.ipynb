{
 "cells": [
  {
   "cell_type": "markdown",
   "metadata": {},
   "source": [
    "# Are you a fan of Mayor Han?\n",
    "\n",
    "<img src=\"https://i.imgur.com/GgPPfk4.png\" width=\"900\" />\n",
    "\n",
    "(image source: [link](https://www.storm.mg/article/525105?srcid=gAAAAABcsea_WZX1btdtDfPbAuBP8p_-9GcnyFvKDxXCZIjJg9dNW26Gskj7oZGDlmsQQjZQq_6v0Pqx57FbQhbMy7_D2Mveyf8pecA6NS_0Kxhj9N1P1CI%253D))\n",
    "\n",
    "## 1. Define Question\n",
    "Recently, Mayor of Kaohsiung Han Kuo-yu (韓國瑜) is in fasion, and even his name became a buzzword.\n",
    "In this section, I'll **determine whether a person is a fan of Mayor Han, otherwise, Chi-Mai**.\n",
    "\n",
    "## 2. Design attributes (features)\n",
    "This dataset contains 20000 rows. The attributes are:\n",
    "- **gender**: male(1) / female(0)\n",
    "- **age**: int\n",
    "- **party**: KMT(1) / Democratic Progressive Party(2) / None(3)\n",
    "- **hasMCTfamily**: 0 / 1\n",
    "    - if any of your family works as a military personnel, a civil servant or a teacher\n",
    "- **loveFerrisWheel**: 0 / 1\n",
    "- **loveMoney**: 0 / 1\n",
    "\n",
    "and the label indicates whether this person loves mayor Han or not:\n",
    "- **fanOfHan**: 0 / 1\n",
    "\n",
    "## 3. Define rules:\n",
    "This is a simple decision tree that defined the rules. The rules are so meaningful that it directly reflects the real-world situation. Let me tell you how these are made.\n",
    "1. If one's party is KMT, he/she has a great chance to be a fan of Han. But not all of them. One thing can be sure of is that people who loves ferris wheel loves Han. Without questions. Another evidence shows that middle-aged women is obsessed with Han.\n",
    "2. If one is not of party 'KMT', we still have another clue. If one has any of his/her family that works as a military personnel, a civil servant or a teacher, he's probably pissed by the 'Democratic Progressive Party', because of the \"pension reform (年金改革)\" policy. Thus, he/she might be forced to support Han in order not to let Chi-Mai Chen, who stands for Democratic Progressive Party, win the election. But this is not always true. If any of them don't love money, well , they might still stick to Chi-Mai.\n",
    "<img src=\"imgs/rules_simple.png\" width=\"700\" />\n",
    "\n",
    "\n",
    "## 4. Generate mock dataset "
   ]
  },
  {
   "cell_type": "code",
   "execution_count": 1,
   "metadata": {},
   "outputs": [],
   "source": [
    "import pandas as pd\n",
    "import numpy as np\n",
    "import matplotlib.pyplot as plt\n",
    "import seaborn as sns\n",
    "import scipy as sp\n",
    "import random\n",
    "import math"
   ]
  },
  {
   "cell_type": "markdown",
   "metadata": {},
   "source": [
    "### gender\n",
    "- according to [wikipedia](https://zh.wikipedia.org/wiki/%E8%87%BA%E7%81%A3%E4%BA%BA%E5%8F%A3#%E4%BA%BA%E5%8F%A3), the average ratio of male and femail is about 0.99\n",
    "- 1: male\n",
    "- 0: female"
   ]
  },
  {
   "cell_type": "code",
   "execution_count": 2,
   "metadata": {},
   "outputs": [
    {
     "data": {
      "text/html": [
       "<div>\n",
       "<style scoped>\n",
       "    .dataframe tbody tr th:only-of-type {\n",
       "        vertical-align: middle;\n",
       "    }\n",
       "\n",
       "    .dataframe tbody tr th {\n",
       "        vertical-align: top;\n",
       "    }\n",
       "\n",
       "    .dataframe thead th {\n",
       "        text-align: right;\n",
       "    }\n",
       "</style>\n",
       "<table border=\"1\" class=\"dataframe\">\n",
       "  <thead>\n",
       "    <tr style=\"text-align: right;\">\n",
       "      <th></th>\n",
       "      <th>gender</th>\n",
       "    </tr>\n",
       "  </thead>\n",
       "  <tbody>\n",
       "    <tr>\n",
       "      <th>0</th>\n",
       "      <td>1</td>\n",
       "    </tr>\n",
       "    <tr>\n",
       "      <th>1</th>\n",
       "      <td>0</td>\n",
       "    </tr>\n",
       "    <tr>\n",
       "      <th>2</th>\n",
       "      <td>1</td>\n",
       "    </tr>\n",
       "    <tr>\n",
       "      <th>3</th>\n",
       "      <td>1</td>\n",
       "    </tr>\n",
       "    <tr>\n",
       "      <th>4</th>\n",
       "      <td>1</td>\n",
       "    </tr>\n",
       "  </tbody>\n",
       "</table>\n",
       "</div>"
      ],
      "text/plain": [
       "   gender\n",
       "0       1\n",
       "1       0\n",
       "2       1\n",
       "3       1\n",
       "4       1"
      ]
     },
     "execution_count": 2,
     "metadata": {},
     "output_type": "execute_result"
    },
    {
     "data": {
      "image/png": "[encoded data removed]",
      "text/plain": [
       "<Figure size 432x288 with 1 Axes>"
      ]
     },
     "metadata": {
      "needs_background": "light"
     },
     "output_type": "display_data"
    }
   ],
   "source": [
    "def decideGenger(n):\n",
    "    return 1 if n*random.uniform(0, 1) < 0.5 else 0\n",
    "\n",
    "pdata = pd.DataFrame(1, index=range(0,20000), columns=['gender'])\n",
    "pdata['gender'] = pdata['gender'].apply(decideGenger)\n",
    "sns.distplot(pdata['gender'], kde=False)\n",
    "pdata.head()"
   ]
  },
  {
   "cell_type": "markdown",
   "metadata": {},
   "source": [
    "### age\n",
    "- again, according to [wikipedia](https://zh.wikipedia.org/wiki/%E8%87%BA%E7%81%A3%E4%BA%BA%E5%8F%A3#%E4%BA%BA%E5%8F%A3), we can consider this a normal distribution\n",
    "- I simply set mean = 50, and std,dev = 15"
   ]
  },
  {
   "cell_type": "code",
   "execution_count": 3,
   "metadata": {},
   "outputs": [
    {
     "data": {
      "text/html": [
       "<div>\n",
       "<style scoped>\n",
       "    .dataframe tbody tr th:only-of-type {\n",
       "        vertical-align: middle;\n",
       "    }\n",
       "\n",
       "    .dataframe tbody tr th {\n",
       "        vertical-align: top;\n",
       "    }\n",
       "\n",
       "    .dataframe thead th {\n",
       "        text-align: right;\n",
       "    }\n",
       "</style>\n",
       "<table border=\"1\" class=\"dataframe\">\n",
       "  <thead>\n",
       "    <tr style=\"text-align: right;\">\n",
       "      <th></th>\n",
       "      <th>gender</th>\n",
       "      <th>age</th>\n",
       "    </tr>\n",
       "  </thead>\n",
       "  <tbody>\n",
       "    <tr>\n",
       "      <th>0</th>\n",
       "      <td>1</td>\n",
       "      <td>29</td>\n",
       "    </tr>\n",
       "    <tr>\n",
       "      <th>1</th>\n",
       "      <td>0</td>\n",
       "      <td>53</td>\n",
       "    </tr>\n",
       "    <tr>\n",
       "      <th>2</th>\n",
       "      <td>1</td>\n",
       "      <td>16</td>\n",
       "    </tr>\n",
       "    <tr>\n",
       "      <th>3</th>\n",
       "      <td>1</td>\n",
       "      <td>51</td>\n",
       "    </tr>\n",
       "    <tr>\n",
       "      <th>4</th>\n",
       "      <td>1</td>\n",
       "      <td>52</td>\n",
       "    </tr>\n",
       "  </tbody>\n",
       "</table>\n",
       "</div>"
      ],
      "text/plain": [
       "   gender  age\n",
       "0       1   29\n",
       "1       0   53\n",
       "2       1   16\n",
       "3       1   51\n",
       "4       1   52"
      ]
     },
     "execution_count": 3,
     "metadata": {},
     "output_type": "execute_result"
    },
    {
     "data": {
      "image/png": "[encoded data removed]",
      "text/plain": [
       "<Figure size 432x288 with 1 Axes>"
      ]
     },
     "metadata": {
      "needs_background": "light"
     },
     "output_type": "display_data"
    }
   ],
   "source": [
    "# pdata['age'] = 0\n",
    "def decideAge(n):\n",
    "    if n < 15:\n",
    "        return 20\n",
    "    elif n > 90:\n",
    "        return 85\n",
    "\n",
    "mu, sigma = 50, 15 # mean and standard deviation\n",
    "pdata['age'] = np.random.normal(mu, sigma, 20000)\n",
    "pdata['age'] = pdata['age'].apply(round)\n",
    "sns.distplot(pdata['age'], kde=False)\n",
    "pdata.head()"
   ]
  },
  {
   "cell_type": "markdown",
   "metadata": {},
   "source": [
    "### party\n",
    "- from the research [1992/06~2018/12](https://esc.nccu.edu.tw/app/news.php?Sn=165#), we can tell the party preference distribution.\n",
    "- random_percent = random(0, 1.0)\n",
    "- if random_percent <= 0.246, then 'Democratic Progressive Party'\n",
    "- else if 0.246 < random_percent <= 0.561, then 'KMT'\n",
    "- else 'none'\n",
    "- 'KMT' = 1, 'Democratic Progressive Party' = 2, 'None' = 3\n",
    "![](https://i.imgur.com/2XfwH3V.png)\n",
    "(image source: [link](https://esc.nccu.edu.tw/app/news.php?Sn=165#))"
   ]
  },
  {
   "cell_type": "code",
   "execution_count": 4,
   "metadata": {},
   "outputs": [
    {
     "data": {
      "text/html": [
       "<div>\n",
       "<style scoped>\n",
       "    .dataframe tbody tr th:only-of-type {\n",
       "        vertical-align: middle;\n",
       "    }\n",
       "\n",
       "    .dataframe tbody tr th {\n",
       "        vertical-align: top;\n",
       "    }\n",
       "\n",
       "    .dataframe thead th {\n",
       "        text-align: right;\n",
       "    }\n",
       "</style>\n",
       "<table border=\"1\" class=\"dataframe\">\n",
       "  <thead>\n",
       "    <tr style=\"text-align: right;\">\n",
       "      <th></th>\n",
       "      <th>gender</th>\n",
       "      <th>age</th>\n",
       "      <th>party</th>\n",
       "    </tr>\n",
       "  </thead>\n",
       "  <tbody>\n",
       "    <tr>\n",
       "      <th>0</th>\n",
       "      <td>1</td>\n",
       "      <td>29</td>\n",
       "      <td>3</td>\n",
       "    </tr>\n",
       "    <tr>\n",
       "      <th>1</th>\n",
       "      <td>0</td>\n",
       "      <td>53</td>\n",
       "      <td>2</td>\n",
       "    </tr>\n",
       "    <tr>\n",
       "      <th>2</th>\n",
       "      <td>1</td>\n",
       "      <td>16</td>\n",
       "      <td>3</td>\n",
       "    </tr>\n",
       "    <tr>\n",
       "      <th>3</th>\n",
       "      <td>1</td>\n",
       "      <td>51</td>\n",
       "      <td>1</td>\n",
       "    </tr>\n",
       "    <tr>\n",
       "      <th>4</th>\n",
       "      <td>1</td>\n",
       "      <td>52</td>\n",
       "      <td>3</td>\n",
       "    </tr>\n",
       "  </tbody>\n",
       "</table>\n",
       "</div>"
      ],
      "text/plain": [
       "   gender  age  party\n",
       "0       1   29      3\n",
       "1       0   53      2\n",
       "2       1   16      3\n",
       "3       1   51      1\n",
       "4       1   52      3"
      ]
     },
     "execution_count": 4,
     "metadata": {},
     "output_type": "execute_result"
    },
    {
     "data": {
      "image/png": "[encoded data removed]",
      "text/plain": [
       "<Figure size 432x288 with 1 Axes>"
      ]
     },
     "metadata": {
      "needs_background": "light"
     },
     "output_type": "display_data"
    }
   ],
   "source": [
    "def decideParty(n):\n",
    "    n = n*random.uniform(0, 1)\n",
    "    if n <= 0.246:\n",
    "        return 2\n",
    "    elif n > 0.246 and n <= 0.561:\n",
    "        return 1\n",
    "    else:\n",
    "        return 3\n",
    "\n",
    "pdata['party'] = 1\n",
    "pdata['party'] = pdata['party'].apply(decideParty)\n",
    "sns.distplot(pdata['party'], kde=False)\n",
    "pdata.head()"
   ]
  },
  {
   "cell_type": "markdown",
   "metadata": {},
   "source": [
    "### hasMCTfamily\n",
    "- if one's family works as a **military personnel**, a **civil servant** or a **teacher** (軍公教人員), there's a great chance that he/she won't like Democratic Progressive Party, because of the \"pension reform (年金改革)\" policy, thus, he/she might be forced to support Han in order not to let Chi-Mai Chen, who stands for Democratic Progressive Party, win the election.\n",
    "- from [this report](http://www.fund.gov.tw/public/data/6851558871.pdf), I found that around 3% of population works as a military personnel, a civil servant or a teacher. and let's assume all their family feel sad for them and thus decide to select Mayor Han, with each family 6 people. That's total 18% approximately.\n",
    "- randomly choose 18% from dataset"
   ]
  },
  {
   "cell_type": "code",
   "execution_count": 5,
   "metadata": {},
   "outputs": [
    {
     "data": {
      "text/html": [
       "<div>\n",
       "<style scoped>\n",
       "    .dataframe tbody tr th:only-of-type {\n",
       "        vertical-align: middle;\n",
       "    }\n",
       "\n",
       "    .dataframe tbody tr th {\n",
       "        vertical-align: top;\n",
       "    }\n",
       "\n",
       "    .dataframe thead th {\n",
       "        text-align: right;\n",
       "    }\n",
       "</style>\n",
       "<table border=\"1\" class=\"dataframe\">\n",
       "  <thead>\n",
       "    <tr style=\"text-align: right;\">\n",
       "      <th></th>\n",
       "      <th>gender</th>\n",
       "      <th>age</th>\n",
       "      <th>party</th>\n",
       "      <th>hasMCTfamily</th>\n",
       "    </tr>\n",
       "  </thead>\n",
       "  <tbody>\n",
       "    <tr>\n",
       "      <th>0</th>\n",
       "      <td>1</td>\n",
       "      <td>29</td>\n",
       "      <td>3</td>\n",
       "      <td>0</td>\n",
       "    </tr>\n",
       "    <tr>\n",
       "      <th>1</th>\n",
       "      <td>0</td>\n",
       "      <td>53</td>\n",
       "      <td>2</td>\n",
       "      <td>0</td>\n",
       "    </tr>\n",
       "    <tr>\n",
       "      <th>2</th>\n",
       "      <td>1</td>\n",
       "      <td>16</td>\n",
       "      <td>3</td>\n",
       "      <td>0</td>\n",
       "    </tr>\n",
       "    <tr>\n",
       "      <th>3</th>\n",
       "      <td>1</td>\n",
       "      <td>51</td>\n",
       "      <td>1</td>\n",
       "      <td>0</td>\n",
       "    </tr>\n",
       "    <tr>\n",
       "      <th>4</th>\n",
       "      <td>1</td>\n",
       "      <td>52</td>\n",
       "      <td>3</td>\n",
       "      <td>0</td>\n",
       "    </tr>\n",
       "  </tbody>\n",
       "</table>\n",
       "</div>"
      ],
      "text/plain": [
       "   gender  age  party  hasMCTfamily\n",
       "0       1   29      3             0\n",
       "1       0   53      2             0\n",
       "2       1   16      3             0\n",
       "3       1   51      1             0\n",
       "4       1   52      3             0"
      ]
     },
     "execution_count": 5,
     "metadata": {},
     "output_type": "execute_result"
    },
    {
     "data": {
      "image/png": "[encoded data removed]",
      "text/plain": [
       "<Figure size 432x288 with 1 Axes>"
      ]
     },
     "metadata": {
      "needs_background": "light"
     },
     "output_type": "display_data"
    }
   ],
   "source": [
    "def decideMCTfamily(_):\n",
    "    n = random.uniform(0, 1)\n",
    "    return 1 if n <= 0.18 else 0\n",
    "\n",
    "pdata['hasMCTfamily'] = 1\n",
    "pdata['hasMCTfamily'] = pdata['hasMCTfamily'].apply(decideMCTfamily)\n",
    "sns.distplot(pdata['hasMCTfamily'], kde=False)\n",
    "pdata.head()"
   ]
  },
  {
   "cell_type": "markdown",
   "metadata": {},
   "source": [
    "### loveMoney\n",
    "- \"Sell Goods, welcome people, prosperous Kaohsiung.\" --- by Mayor Han\n",
    "- most people love money."
   ]
  },
  {
   "cell_type": "code",
   "execution_count": 6,
   "metadata": {},
   "outputs": [
    {
     "data": {
      "text/html": [
       "<div>\n",
       "<style scoped>\n",
       "    .dataframe tbody tr th:only-of-type {\n",
       "        vertical-align: middle;\n",
       "    }\n",
       "\n",
       "    .dataframe tbody tr th {\n",
       "        vertical-align: top;\n",
       "    }\n",
       "\n",
       "    .dataframe thead th {\n",
       "        text-align: right;\n",
       "    }\n",
       "</style>\n",
       "<table border=\"1\" class=\"dataframe\">\n",
       "  <thead>\n",
       "    <tr style=\"text-align: right;\">\n",
       "      <th></th>\n",
       "      <th>gender</th>\n",
       "      <th>age</th>\n",
       "      <th>party</th>\n",
       "      <th>hasMCTfamily</th>\n",
       "      <th>loveMoney</th>\n",
       "    </tr>\n",
       "  </thead>\n",
       "  <tbody>\n",
       "    <tr>\n",
       "      <th>0</th>\n",
       "      <td>1</td>\n",
       "      <td>29</td>\n",
       "      <td>3</td>\n",
       "      <td>0</td>\n",
       "      <td>1</td>\n",
       "    </tr>\n",
       "    <tr>\n",
       "      <th>1</th>\n",
       "      <td>0</td>\n",
       "      <td>53</td>\n",
       "      <td>2</td>\n",
       "      <td>0</td>\n",
       "      <td>1</td>\n",
       "    </tr>\n",
       "    <tr>\n",
       "      <th>2</th>\n",
       "      <td>1</td>\n",
       "      <td>16</td>\n",
       "      <td>3</td>\n",
       "      <td>0</td>\n",
       "      <td>0</td>\n",
       "    </tr>\n",
       "    <tr>\n",
       "      <th>3</th>\n",
       "      <td>1</td>\n",
       "      <td>51</td>\n",
       "      <td>1</td>\n",
       "      <td>0</td>\n",
       "      <td>0</td>\n",
       "    </tr>\n",
       "    <tr>\n",
       "      <th>4</th>\n",
       "      <td>1</td>\n",
       "      <td>52</td>\n",
       "      <td>3</td>\n",
       "      <td>0</td>\n",
       "      <td>1</td>\n",
       "    </tr>\n",
       "  </tbody>\n",
       "</table>\n",
       "</div>"
      ],
      "text/plain": [
       "   gender  age  party  hasMCTfamily  loveMoney\n",
       "0       1   29      3             0          1\n",
       "1       0   53      2             0          1\n",
       "2       1   16      3             0          0\n",
       "3       1   51      1             0          0\n",
       "4       1   52      3             0          1"
      ]
     },
     "execution_count": 6,
     "metadata": {},
     "output_type": "execute_result"
    },
    {
     "data": {
      "image/png": "[encoded data removed]",
      "text/plain": [
       "<Figure size 432x288 with 1 Axes>"
      ]
     },
     "metadata": {
      "needs_background": "light"
     },
     "output_type": "display_data"
    }
   ],
   "source": [
    "pdata['loveMoney'] = 1\n",
    "for index, row in pdata.iterrows():\n",
    "#     pdata.at[index,'loveChina'] = 1 if row['party'] == 'KMT' and random.uniform(0, 1) > 0.3 else 0\n",
    "    pdata.at[index,'loveMoney'] = random.randint(0, 1) # 1 if random.uniform(0, 1) > 0.5 else 0\n",
    "sns.distplot(pdata['loveMoney'], kde=False)\n",
    "pdata.head()"
   ]
  },
  {
   "cell_type": "markdown",
   "metadata": {},
   "source": [
    "### loveFerrisWheel\n",
    "- haters' gonna hate.\n",
    "- randomly selected (50%)"
   ]
  },
  {
   "cell_type": "code",
   "execution_count": 7,
   "metadata": {},
   "outputs": [
    {
     "data": {
      "text/html": [
       "<div>\n",
       "<style scoped>\n",
       "    .dataframe tbody tr th:only-of-type {\n",
       "        vertical-align: middle;\n",
       "    }\n",
       "\n",
       "    .dataframe tbody tr th {\n",
       "        vertical-align: top;\n",
       "    }\n",
       "\n",
       "    .dataframe thead th {\n",
       "        text-align: right;\n",
       "    }\n",
       "</style>\n",
       "<table border=\"1\" class=\"dataframe\">\n",
       "  <thead>\n",
       "    <tr style=\"text-align: right;\">\n",
       "      <th></th>\n",
       "      <th>gender</th>\n",
       "      <th>age</th>\n",
       "      <th>party</th>\n",
       "      <th>hasMCTfamily</th>\n",
       "      <th>loveMoney</th>\n",
       "      <th>loveFerrisWheel</th>\n",
       "    </tr>\n",
       "  </thead>\n",
       "  <tbody>\n",
       "    <tr>\n",
       "      <th>0</th>\n",
       "      <td>1</td>\n",
       "      <td>29</td>\n",
       "      <td>3</td>\n",
       "      <td>0</td>\n",
       "      <td>1</td>\n",
       "      <td>0</td>\n",
       "    </tr>\n",
       "    <tr>\n",
       "      <th>1</th>\n",
       "      <td>0</td>\n",
       "      <td>53</td>\n",
       "      <td>2</td>\n",
       "      <td>0</td>\n",
       "      <td>1</td>\n",
       "      <td>0</td>\n",
       "    </tr>\n",
       "    <tr>\n",
       "      <th>2</th>\n",
       "      <td>1</td>\n",
       "      <td>16</td>\n",
       "      <td>3</td>\n",
       "      <td>0</td>\n",
       "      <td>0</td>\n",
       "      <td>0</td>\n",
       "    </tr>\n",
       "    <tr>\n",
       "      <th>3</th>\n",
       "      <td>1</td>\n",
       "      <td>51</td>\n",
       "      <td>1</td>\n",
       "      <td>0</td>\n",
       "      <td>0</td>\n",
       "      <td>0</td>\n",
       "    </tr>\n",
       "    <tr>\n",
       "      <th>4</th>\n",
       "      <td>1</td>\n",
       "      <td>52</td>\n",
       "      <td>3</td>\n",
       "      <td>0</td>\n",
       "      <td>1</td>\n",
       "      <td>1</td>\n",
       "    </tr>\n",
       "  </tbody>\n",
       "</table>\n",
       "</div>"
      ],
      "text/plain": [
       "   gender  age  party  hasMCTfamily  loveMoney  loveFerrisWheel\n",
       "0       1   29      3             0          1                0\n",
       "1       0   53      2             0          1                0\n",
       "2       1   16      3             0          0                0\n",
       "3       1   51      1             0          0                0\n",
       "4       1   52      3             0          1                1"
      ]
     },
     "execution_count": 7,
     "metadata": {},
     "output_type": "execute_result"
    },
    {
     "data": {
      "image/png": "[encoded data removed]",
      "text/plain": [
       "<Figure size 432x288 with 1 Axes>"
      ]
     },
     "metadata": {
      "needs_background": "light"
     },
     "output_type": "display_data"
    }
   ],
   "source": [
    "def decideLoveFerrisWheel(_):\n",
    "    return random.randint(0, 1) # 1 if random.uniform(0, 1) < 0.5 else 0\n",
    "\n",
    "pdata['loveFerrisWheel'] = 1\n",
    "pdata['loveFerrisWheel'] = pdata['loveFerrisWheel'].apply(decideLoveFerrisWheel)\n",
    "sns.distplot(pdata['loveFerrisWheel'], kde=False)\n",
    "pdata.head()"
   ]
  },
  {
   "cell_type": "markdown",
   "metadata": {},
   "source": [
    "### fanOfHan\n",
    "Now, label the dataset based on the designed rules."
   ]
  },
  {
   "cell_type": "code",
   "execution_count": 8,
   "metadata": {},
   "outputs": [
    {
     "data": {
      "text/html": [
       "<div>\n",
       "<style scoped>\n",
       "    .dataframe tbody tr th:only-of-type {\n",
       "        vertical-align: middle;\n",
       "    }\n",
       "\n",
       "    .dataframe tbody tr th {\n",
       "        vertical-align: top;\n",
       "    }\n",
       "\n",
       "    .dataframe thead th {\n",
       "        text-align: right;\n",
       "    }\n",
       "</style>\n",
       "<table border=\"1\" class=\"dataframe\">\n",
       "  <thead>\n",
       "    <tr style=\"text-align: right;\">\n",
       "      <th></th>\n",
       "      <th>gender</th>\n",
       "      <th>age</th>\n",
       "      <th>party</th>\n",
       "      <th>hasMCTfamily</th>\n",
       "      <th>loveMoney</th>\n",
       "      <th>loveFerrisWheel</th>\n",
       "      <th>fanOfHan</th>\n",
       "    </tr>\n",
       "  </thead>\n",
       "  <tbody>\n",
       "    <tr>\n",
       "      <th>0</th>\n",
       "      <td>1</td>\n",
       "      <td>29</td>\n",
       "      <td>3</td>\n",
       "      <td>0</td>\n",
       "      <td>1</td>\n",
       "      <td>0</td>\n",
       "      <td>0</td>\n",
       "    </tr>\n",
       "    <tr>\n",
       "      <th>1</th>\n",
       "      <td>0</td>\n",
       "      <td>53</td>\n",
       "      <td>2</td>\n",
       "      <td>0</td>\n",
       "      <td>1</td>\n",
       "      <td>0</td>\n",
       "      <td>0</td>\n",
       "    </tr>\n",
       "    <tr>\n",
       "      <th>2</th>\n",
       "      <td>1</td>\n",
       "      <td>16</td>\n",
       "      <td>3</td>\n",
       "      <td>0</td>\n",
       "      <td>0</td>\n",
       "      <td>0</td>\n",
       "      <td>0</td>\n",
       "    </tr>\n",
       "    <tr>\n",
       "      <th>3</th>\n",
       "      <td>1</td>\n",
       "      <td>51</td>\n",
       "      <td>1</td>\n",
       "      <td>0</td>\n",
       "      <td>0</td>\n",
       "      <td>0</td>\n",
       "      <td>0</td>\n",
       "    </tr>\n",
       "    <tr>\n",
       "      <th>4</th>\n",
       "      <td>1</td>\n",
       "      <td>52</td>\n",
       "      <td>3</td>\n",
       "      <td>0</td>\n",
       "      <td>1</td>\n",
       "      <td>1</td>\n",
       "      <td>0</td>\n",
       "    </tr>\n",
       "  </tbody>\n",
       "</table>\n",
       "</div>"
      ],
      "text/plain": [
       "   gender  age  party  hasMCTfamily  loveMoney  loveFerrisWheel  fanOfHan\n",
       "0       1   29      3             0          1                0         0\n",
       "1       0   53      2             0          1                0         0\n",
       "2       1   16      3             0          0                0         0\n",
       "3       1   51      1             0          0                0         0\n",
       "4       1   52      3             0          1                1         0"
      ]
     },
     "execution_count": 8,
     "metadata": {},
     "output_type": "execute_result"
    }
   ],
   "source": [
    "pdata['fanOfHan'] = 0\n",
    "for index, row in pdata.iterrows():\n",
    "    if (row['party'] == 1):\n",
    "        if (row['loveFerrisWheel'] == 1):\n",
    "            pdata.at[index,'fanOfHan'] = 1\n",
    "        else:\n",
    "            if (row['gender'] == 0) and (row['age'] >= 55):\n",
    "                pdata.at[index,'fanOfHan'] = 1\n",
    "    else:\n",
    "        if (row['hasMCTfamily'] == 1):\n",
    "            if (row['loveMoney'] == 1):\n",
    "                pdata.at[index,'fanOfHan'] = 1\n",
    "\n",
    "# save the dataset as csv\n",
    "pdata.to_csv('mock_data.csv')\n",
    "pdata.head()"
   ]
  },
  {
   "cell_type": "markdown",
   "metadata": {},
   "source": [
    "## 5. Construct Decision Tree:"
   ]
  },
  {
   "cell_type": "markdown",
   "metadata": {},
   "source": [
    "### Seperate to training set and testing set"
   ]
  },
  {
   "cell_type": "code",
   "execution_count": 9,
   "metadata": {},
   "outputs": [],
   "source": [
    "pdata_train = pdata[:15000]\n",
    "pdata_test = pdata[15000:]"
   ]
  },
  {
   "cell_type": "markdown",
   "metadata": {},
   "source": [
    "### Seperate attributes and answer"
   ]
  },
  {
   "cell_type": "code",
   "execution_count": 10,
   "metadata": {},
   "outputs": [],
   "source": [
    "y = pdata_train['fanOfHan'].values\n",
    "pdata_train = pdata_train.drop('fanOfHan', axis=1)"
   ]
  },
  {
   "cell_type": "markdown",
   "metadata": {},
   "source": [
    "### Draw Decision Tree"
   ]
  },
  {
   "cell_type": "code",
   "execution_count": 11,
   "metadata": {},
   "outputs": [
    {
     "data": {
      "text/plain": [
       "True"
      ]
     },
     "execution_count": 11,
     "metadata": {},
     "output_type": "execute_result"
    }
   ],
   "source": [
    "from sklearn.tree import DecisionTreeClassifier\n",
    "from sklearn.externals.six import StringIO\n",
    "from sklearn.tree import export_graphviz\n",
    "import pydotplus\n",
    "\n",
    "dtree=DecisionTreeClassifier(max_depth=6)\n",
    "dtree.fit(pdata_train, y)\n",
    "\n",
    "dot_data = StringIO()\n",
    "export_graphviz(dtree, \n",
    "                out_file=dot_data,  \n",
    "                filled=True, \n",
    "                feature_names=list(pdata_train),\n",
    "                class_names=['Chi Mai','Mayor Han'],\n",
    "                special_characters=True)\n",
    "\n",
    "graph = pydotplus.graph_from_dot_data(dot_data.getvalue())\n",
    "# graph.write_pdf(\"tree.pdf\")\n",
    "graph.write_png(\"imgs/tree.png\")"
   ]
  },
  {
   "cell_type": "markdown",
   "metadata": {},
   "source": [
    "<img src=\"imgs/tree.png\" width=\"700\" />"
   ]
  },
  {
   "cell_type": "markdown",
   "metadata": {},
   "source": [
    "### calculate accuracy"
   ]
  },
  {
   "cell_type": "code",
   "execution_count": 12,
   "metadata": {},
   "outputs": [
    {
     "data": {
      "text/plain": [
       "array([0, 0, 0, ..., 0, 0, 1])"
      ]
     },
     "execution_count": 12,
     "metadata": {},
     "output_type": "execute_result"
    }
   ],
   "source": [
    "y_test = pdata_test['fanOfHan'].values\n",
    "X_test = pdata_test.drop('fanOfHan', axis=1)\n",
    "\n",
    "y_predict = dtree.predict(X_test)\n",
    "\n",
    "y_predict"
   ]
  },
  {
   "cell_type": "code",
   "execution_count": 13,
   "metadata": {},
   "outputs": [
    {
     "data": {
      "text/plain": [
       "1.0"
      ]
     },
     "execution_count": 13,
     "metadata": {},
     "output_type": "execute_result"
    }
   ],
   "source": [
    "from sklearn.metrics import accuracy_score\n",
    "\n",
    "accuracy_score(y_test, y_predict)"
   ]
  },
  {
   "cell_type": "markdown",
   "metadata": {},
   "source": [
    "# Report\n",
    "\n",
    "## 6. Compare the rules\n",
    "\n",
    "### (a). Original rules v.s rules generated by decision tree\n",
    "\n",
    "#### Original rules:\n",
    "<img src=\"imgs/rules_simple.png\" width=\"500\" />\n",
    "\n",
    "#### Generated rules:\n",
    "<img src=\"imgs/tree.png\" width=\"500\" />\n",
    "\n",
    "\n",
    "### (b). Observation\n",
    "- WOW, the generated rules and the original rules perfectly matched! Even the order! The world doesn't lie.\n",
    "- Let's look at the \"party\" attribute. The decision tree said \"party < 1.5\", and only KMT has value 1, which is less than 1.5. As for why 1.5 instead of 1 ? this is due to the <font color='red'>\"information gain\"</font> calculation. The decision Tree tends to choose the gini value that get higher information gain. The information gain of my original rule is **0.071**, and the information gain calculated by the decision tree is **0.114** (The process is shown below). Therefore, the decision tree choosed value 1.5 as a separation, and \"party = 1\" matched the rule.\n",
    "- Let's look at the left part. The second decision rule is 'age <= 54.5', the result went to 'Chi-Mai' class. Whihc means, if age >= 55, it futher checked if one's gender is female. This is also correct. The reason why it is 54.5 instead of 55 is also due to information gain calculation.\n",
    "- As for the rest of the decision rules are all 1 or 0, which are presented as greater or smaller than 0.5. And again, The reason why 0.5 over 1 is due to information gain calculation. These are also correct!\n",
    "\n",
    "#### gini and information gain calculation:"
   ]
  },
  {
   "cell_type": "code",
   "execution_count": 14,
   "metadata": {},
   "outputs": [
    {
     "name": "stdout",
     "output_type": "stream",
     "text": [
      "information gain of my rule is 0.0711551705800822\n",
      "information gain of decision tree is 0.11403360000000001\n"
     ]
    }
   ],
   "source": [
    "# prove why 1.5 instead of 1\n",
    "left = pdata[pdata['party'] <= 1].count()[0]\n",
    "right = pdata.shape[0] - left\n",
    "gini_party = 1 - (pow(left/(left+right), 2) + pow(right/(left+right), 2))\n",
    "\n",
    "left = pdata[(pdata['party'] <= 1) & (pdata['loveFerrisWheel'] < 1)].count()[0]\n",
    "right = pdata[pdata['party'] <= 1].count()[0] - left\n",
    "total_loveFerrisWheel = left+right\n",
    "gini_loveFerrisWheel = 1 - (pow(left/(left+right), 2) + pow(right/(left+right), 2))\n",
    "\n",
    "left = pdata[(pdata['party'] > 1) & (pdata['hasMCTfamily'] < 1)].count()[0]\n",
    "right = pdata[pdata['party'] > 1].count()[0] - left\n",
    "total_hasMCTfamily = left+right\n",
    "gini_hasMCTfamily = 1 - (pow(left/(left+right), 2) + pow(right/(left+right), 2))\n",
    "\n",
    "informationGain_myrule = gini_party - (gini_loveFerrisWheel*total_loveFerrisWheel + gini_hasMCTfamily*total_hasMCTfamily) / (total_loveFerrisWheel + total_hasMCTfamily)\n",
    "print('information gain of my rule is', informationGain_myrule)\n",
    "\n",
    "informationGain_dt = 0.379 - (0.478*(1884+2874) + 0.166*(9308+934)) / (1884+2874+9308+934)\n",
    "print('information gain of decision tree is', informationGain_dt)"
   ]
  },
  {
   "cell_type": "markdown",
   "metadata": {},
   "source": [
    "## 7. Futher Discussion\n",
    "### (a). If we try more complicated rules, will the tree still look similar ?\n",
    "<img src=\"imgs/complicated_rules.png\" width=\"500\" />"
   ]
  },
  {
   "cell_type": "code",
   "execution_count": 15,
   "metadata": {},
   "outputs": [
    {
     "data": {
      "text/html": [
       "<div>\n",
       "<style scoped>\n",
       "    .dataframe tbody tr th:only-of-type {\n",
       "        vertical-align: middle;\n",
       "    }\n",
       "\n",
       "    .dataframe tbody tr th {\n",
       "        vertical-align: top;\n",
       "    }\n",
       "\n",
       "    .dataframe thead th {\n",
       "        text-align: right;\n",
       "    }\n",
       "</style>\n",
       "<table border=\"1\" class=\"dataframe\">\n",
       "  <thead>\n",
       "    <tr style=\"text-align: right;\">\n",
       "      <th></th>\n",
       "      <th>gender</th>\n",
       "      <th>age</th>\n",
       "      <th>party</th>\n",
       "      <th>hasMCTfamily</th>\n",
       "      <th>loveMoney</th>\n",
       "      <th>loveFerrisWheel</th>\n",
       "      <th>fanOfHan</th>\n",
       "    </tr>\n",
       "  </thead>\n",
       "  <tbody>\n",
       "    <tr>\n",
       "      <th>0</th>\n",
       "      <td>1</td>\n",
       "      <td>29</td>\n",
       "      <td>3</td>\n",
       "      <td>0</td>\n",
       "      <td>1</td>\n",
       "      <td>0</td>\n",
       "      <td>0</td>\n",
       "    </tr>\n",
       "    <tr>\n",
       "      <th>1</th>\n",
       "      <td>0</td>\n",
       "      <td>53</td>\n",
       "      <td>2</td>\n",
       "      <td>0</td>\n",
       "      <td>1</td>\n",
       "      <td>0</td>\n",
       "      <td>0</td>\n",
       "    </tr>\n",
       "    <tr>\n",
       "      <th>2</th>\n",
       "      <td>1</td>\n",
       "      <td>16</td>\n",
       "      <td>3</td>\n",
       "      <td>0</td>\n",
       "      <td>0</td>\n",
       "      <td>0</td>\n",
       "      <td>0</td>\n",
       "    </tr>\n",
       "    <tr>\n",
       "      <th>3</th>\n",
       "      <td>1</td>\n",
       "      <td>51</td>\n",
       "      <td>1</td>\n",
       "      <td>0</td>\n",
       "      <td>0</td>\n",
       "      <td>0</td>\n",
       "      <td>1</td>\n",
       "    </tr>\n",
       "    <tr>\n",
       "      <th>4</th>\n",
       "      <td>1</td>\n",
       "      <td>52</td>\n",
       "      <td>3</td>\n",
       "      <td>0</td>\n",
       "      <td>1</td>\n",
       "      <td>1</td>\n",
       "      <td>1</td>\n",
       "    </tr>\n",
       "  </tbody>\n",
       "</table>\n",
       "</div>"
      ],
      "text/plain": [
       "   gender  age  party  hasMCTfamily  loveMoney  loveFerrisWheel  fanOfHan\n",
       "0       1   29      3             0          1                0         0\n",
       "1       0   53      2             0          1                0         0\n",
       "2       1   16      3             0          0                0         0\n",
       "3       1   51      1             0          0                0         1\n",
       "4       1   52      3             0          1                1         1"
      ]
     },
     "execution_count": 15,
     "metadata": {},
     "output_type": "execute_result"
    }
   ],
   "source": [
    "test_data = pdata.copy()\n",
    "test_data = test_data.drop('fanOfHan', axis=1)\n",
    "test_data['fanOfHan'] = 0\n",
    "# complicated rules\n",
    "for index, row in test_data.iterrows():\n",
    "    if (row['party'] == 1):\n",
    "        test_data.at[index,'fanOfHan'] = 1\n",
    "    else:\n",
    "        if (row['loveMoney'] == 1):\n",
    "            if (row['loveFerrisWheel'] == 1):\n",
    "                test_data.at[index,'fanOfHan'] = 1\n",
    "        else:\n",
    "            if (row['hasMCTfamily'] == 1):\n",
    "                if (row['party'] == 2):\n",
    "                    test_data.at[index,'fanOfHan'] = 1\n",
    "            else:\n",
    "                if (row['age'] >= 55):\n",
    "                    if (row['gender'] == 0):\n",
    "                        test_data.at[index,'fanOfHan'] = 1\n",
    "                        \n",
    "test_data.head()"
   ]
  },
  {
   "cell_type": "code",
   "execution_count": 16,
   "metadata": {},
   "outputs": [
    {
     "data": {
      "text/plain": [
       "True"
      ]
     },
     "execution_count": 16,
     "metadata": {},
     "output_type": "execute_result"
    }
   ],
   "source": [
    "# split to train, test, y\n",
    "test_data_train = test_data[:15000]\n",
    "test_data_test = test_data[15000:]\n",
    "\n",
    "test_y = test_data_train['fanOfHan'].values\n",
    "test_data_train = test_data_train.drop('fanOfHan', axis=1)\n",
    "\n",
    "# draw the tree\n",
    "dtree=DecisionTreeClassifier(max_depth=10)\n",
    "dtree.fit(test_data_train, test_y)\n",
    "\n",
    "dot_data = StringIO()\n",
    "export_graphviz(dtree, \n",
    "                out_file=dot_data,  \n",
    "                filled=True, \n",
    "                feature_names=list(test_data_train),\n",
    "                class_names=['Chi Mai','Mayor Han'],\n",
    "                special_characters=True)\n",
    "\n",
    "graph = pydotplus.graph_from_dot_data(dot_data.getvalue())\n",
    "graph.write_png(\"imgs/test_complicated.png\")"
   ]
  },
  {
   "cell_type": "markdown",
   "metadata": {},
   "source": [
    "<img src=\"imgs/test_complicated.png\" width=\"1000\" />\n",
    "\n",
    "### accuracy"
   ]
  },
  {
   "cell_type": "code",
   "execution_count": 17,
   "metadata": {},
   "outputs": [
    {
     "data": {
      "text/plain": [
       "1.0"
      ]
     },
     "execution_count": 17,
     "metadata": {},
     "output_type": "execute_result"
    }
   ],
   "source": [
    "y_test = test_data_test['fanOfHan'].values\n",
    "X_test = test_data_test.drop('fanOfHan', axis=1)\n",
    "\n",
    "y_predict = dtree.predict(X_test)\n",
    "\n",
    "accuracy_score(y_test, y_predict)"
   ]
  },
  {
   "cell_type": "markdown",
   "metadata": {},
   "source": [
    "### Observation\n",
    "- The tree looks very differnet, though the accuracy can still be 100%.\n",
    "- The left part stays the same as the rules.\n",
    "- If we break the tree down to small pieces, we can still find some of the original rules. For instance, check for 'hasMCTfamily' and then check if 'party = Democratic Progressive Party'.\n",
    "- Another one is the check for age and the check for gender, this is also the same idea as the designed rules.\n",
    "\n",
    "### (b). If we add some noise to the dataset under the simple rules, what will the tree be like ?"
   ]
  },
  {
   "cell_type": "code",
   "execution_count": 18,
   "metadata": {},
   "outputs": [
    {
     "name": "stdout",
     "output_type": "stream",
     "text": [
      "[10477, 15906, 16016, 12136, 5028, 1643, 6051, 18681, 15316, 16090, 14330, 10660, 12419, 12850, 17725, 13790, 17506, 9169, 10985]\n"
     ]
    },
    {
     "data": {
      "text/html": [
       "<div>\n",
       "<style scoped>\n",
       "    .dataframe tbody tr th:only-of-type {\n",
       "        vertical-align: middle;\n",
       "    }\n",
       "\n",
       "    .dataframe tbody tr th {\n",
       "        vertical-align: top;\n",
       "    }\n",
       "\n",
       "    .dataframe thead th {\n",
       "        text-align: right;\n",
       "    }\n",
       "</style>\n",
       "<table border=\"1\" class=\"dataframe\">\n",
       "  <thead>\n",
       "    <tr style=\"text-align: right;\">\n",
       "      <th></th>\n",
       "      <th>gender</th>\n",
       "      <th>age</th>\n",
       "      <th>party</th>\n",
       "      <th>hasMCTfamily</th>\n",
       "      <th>loveMoney</th>\n",
       "      <th>loveFerrisWheel</th>\n",
       "    </tr>\n",
       "  </thead>\n",
       "  <tbody>\n",
       "    <tr>\n",
       "      <th>0</th>\n",
       "      <td>1</td>\n",
       "      <td>29</td>\n",
       "      <td>3</td>\n",
       "      <td>0.0</td>\n",
       "      <td>1</td>\n",
       "      <td>0</td>\n",
       "    </tr>\n",
       "    <tr>\n",
       "      <th>1</th>\n",
       "      <td>0</td>\n",
       "      <td>53</td>\n",
       "      <td>2</td>\n",
       "      <td>0.0</td>\n",
       "      <td>1</td>\n",
       "      <td>0</td>\n",
       "    </tr>\n",
       "    <tr>\n",
       "      <th>2</th>\n",
       "      <td>1</td>\n",
       "      <td>16</td>\n",
       "      <td>3</td>\n",
       "      <td>0.0</td>\n",
       "      <td>0</td>\n",
       "      <td>0</td>\n",
       "    </tr>\n",
       "    <tr>\n",
       "      <th>3</th>\n",
       "      <td>1</td>\n",
       "      <td>51</td>\n",
       "      <td>1</td>\n",
       "      <td>0.0</td>\n",
       "      <td>0</td>\n",
       "      <td>0</td>\n",
       "    </tr>\n",
       "    <tr>\n",
       "      <th>4</th>\n",
       "      <td>1</td>\n",
       "      <td>52</td>\n",
       "      <td>3</td>\n",
       "      <td>0.0</td>\n",
       "      <td>1</td>\n",
       "      <td>1</td>\n",
       "    </tr>\n",
       "  </tbody>\n",
       "</table>\n",
       "</div>"
      ],
      "text/plain": [
       "   gender  age  party  hasMCTfamily  loveMoney  loveFerrisWheel\n",
       "0       1   29      3           0.0          1                0\n",
       "1       0   53      2           0.0          1                0\n",
       "2       1   16      3           0.0          0                0\n",
       "3       1   51      1           0.0          0                0\n",
       "4       1   52      3           0.0          1                1"
      ]
     },
     "execution_count": 18,
     "metadata": {},
     "output_type": "execute_result"
    }
   ],
   "source": [
    "test_data = pdata.copy()\n",
    "\n",
    "# randomly select rows to add noise\n",
    "idx = list(random.randint(0, 20000-1) for x in range(1, 20))\n",
    "print(idx)\n",
    "for i in idx:\n",
    "    test_data.loc[i] = [\n",
    "        random.randint(0, 1),\n",
    "        random.randint(20, 90),\n",
    "        random.randint(1, 3),\n",
    "        random.uniform(0, 1),\n",
    "        random.randint(0, 1),\n",
    "        random.randint(0, 1),\n",
    "        random.randint(0, 1)\n",
    "    ]\n",
    "\n",
    "test_data_train = test_data[:15000]\n",
    "test_data_test = test_data[15000:]\n",
    "test_y = test_data_train['fanOfHan'].values\n",
    "test_data_train = test_data_train.drop('fanOfHan', axis=1)\n",
    "test_data_train.head()"
   ]
  },
  {
   "cell_type": "code",
   "execution_count": 19,
   "metadata": {},
   "outputs": [
    {
     "data": {
      "text/plain": [
       "True"
      ]
     },
     "execution_count": 19,
     "metadata": {},
     "output_type": "execute_result"
    }
   ],
   "source": [
    "dtree.fit(test_data_train, test_y)\n",
    "\n",
    "dot_data = StringIO()\n",
    "export_graphviz(dtree, \n",
    "                out_file=dot_data,  \n",
    "                filled=True, \n",
    "                feature_names=list(test_data_train),\n",
    "                class_names=['Chi Mai','Mayor Han'],\n",
    "                special_characters=True)\n",
    "\n",
    "graph = pydotplus.graph_from_dot_data(dot_data.getvalue())\n",
    "graph.write_png(\"imgs/test_noise.png\")"
   ]
  },
  {
   "cell_type": "markdown",
   "metadata": {},
   "source": [
    "<img src=\"imgs/test_noise.png\" width=\"900\" />\n",
    "\n",
    "### accuracy"
   ]
  },
  {
   "cell_type": "code",
   "execution_count": 20,
   "metadata": {},
   "outputs": [
    {
     "data": {
      "text/plain": [
       "0.999"
      ]
     },
     "execution_count": 20,
     "metadata": {},
     "output_type": "execute_result"
    }
   ],
   "source": [
    "y_test = test_data_test['fanOfHan'].values\n",
    "X_test = test_data_test.drop('fanOfHan', axis=1)\n",
    "\n",
    "y_predict = dtree.predict(X_test)\n",
    "\n",
    "accuracy_score(y_test, y_predict)"
   ]
  },
  {
   "cell_type": "markdown",
   "metadata": {},
   "source": [
    "### Observation\n",
    "\n",
    "- The tree structure is affected and thus became much more complicated.\n",
    "- It shows that the structure of Decision Tree is prone to noise, even when only 0.1% of the data is randomly made.\n",
    "- As we can see, at the bottom of the tree, some of the rules is added only to distinguish 3 or less data, which is a noise. This is because decision tree only tells true or false. It'll tell you false if there is any special case.\n",
    "- However, it seems like that the accuracy isn't affected that much though. The tree is still well functioning while it looks complicated.\n",
    "\n",
    "### (c). If we increase the weight fraction (default is 0) of Decision Tree, how will the result be?"
   ]
  },
  {
   "cell_type": "code",
   "execution_count": 21,
   "metadata": {},
   "outputs": [],
   "source": [
    "test_data = pdata.copy()\n",
    "test_data_train = test_data[:15000]\n",
    "test_data_test = test_data[15000:]\n",
    "test_y = test_data_train['fanOfHan'].values\n",
    "test_data_train = test_data_train.drop('fanOfHan', axis=1)"
   ]
  },
  {
   "cell_type": "code",
   "execution_count": 22,
   "metadata": {},
   "outputs": [
    {
     "data": {
      "text/plain": [
       "True"
      ]
     },
     "execution_count": 22,
     "metadata": {},
     "output_type": "execute_result"
    }
   ],
   "source": [
    "dtree=DecisionTreeClassifier(max_depth=6, min_weight_fraction_leaf=0.1) # increase the fraction\n",
    "dtree.fit(pdata_train, y)\n",
    "\n",
    "dot_data = StringIO()\n",
    "export_graphviz(dtree, \n",
    "                out_file=dot_data,  \n",
    "                filled=True, \n",
    "                feature_names=list(pdata_train),\n",
    "                class_names=['Chi Mai','Mayor Han'],\n",
    "                special_characters=True)\n",
    "\n",
    "graph = pydotplus.graph_from_dot_data(dot_data.getvalue())\n",
    "graph.write_png(\"imgs/test_fraction.png\")"
   ]
  },
  {
   "cell_type": "markdown",
   "metadata": {},
   "source": [
    "<img src=\"imgs/test_fraction.png\" width=\"600\" />\n",
    "\n",
    "### accuracy"
   ]
  },
  {
   "cell_type": "code",
   "execution_count": 23,
   "metadata": {},
   "outputs": [
    {
     "data": {
      "text/plain": [
       "0.9014"
      ]
     },
     "execution_count": 23,
     "metadata": {},
     "output_type": "execute_result"
    }
   ],
   "source": [
    "y_test = test_data_test['fanOfHan'].values\n",
    "X_test = test_data_test.drop('fanOfHan', axis=1)\n",
    "\n",
    "y_predict = dtree.predict(X_test)\n",
    "\n",
    "accuracy_score(y_test, y_predict)"
   ]
  },
  {
   "cell_type": "markdown",
   "metadata": {},
   "source": [
    "### Observation\n",
    "- At the bottom, there are still lots of values that couldn't be classified.\n",
    "- The accuracy turns out poorer.\n",
    "- This is because the weight of the left data is less than 1% of 20000, or 2000 data, which is not enough to be at a leaf node. Thus the result is unsatisfied."
   ]
  },
  {
   "cell_type": "code",
   "execution_count": null,
   "metadata": {},
   "outputs": [],
   "source": []
  }
 ],
 "metadata": {
  "kernelspec": {
   "display_name": "Python 3",
   "language": "python",
   "name": "python3"
  },
  "language_info": {
   "codemirror_mode": {
    "name": "ipython",
    "version": 3
   },
   "file_extension": ".py",
   "mimetype": "text/x-python",
   "name": "python",
   "nbconvert_exporter": "python",
   "pygments_lexer": "ipython3",
   "version": "3.6.7"
  }
 },
 "nbformat": 4,
 "nbformat_minor": 2
}
