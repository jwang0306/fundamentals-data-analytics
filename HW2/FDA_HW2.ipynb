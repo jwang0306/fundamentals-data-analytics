{
 "cells": [
  {
   "cell_type": "markdown",
   "metadata": {},
   "source": [
    "# Are you a fan of Mayor Han?\n",
    "\n",
    "<img src=\"https://i.imgur.com/GgPPfk4.png\" width=\"900\" />\n",
    "\n",
    "(image source: [link](https://www.storm.mg/article/525105?srcid=gAAAAABcsea_WZX1btdtDfPbAuBP8p_-9GcnyFvKDxXCZIjJg9dNW26Gskj7oZGDlmsQQjZQq_6v0Pqx57FbQhbMy7_D2Mveyf8pecA6NS_0Kxhj9N1P1CI%253D))\n",
    "\n",
    "## 1. Define Question\n",
    "Recently, Mayor of Kaohsiung Han Kuo-yu (韓國瑜) is in fasion, and even his name became a buzzword.\n",
    "In this section, I'll **determine whether a person is a fan of Mayor Han**.\n",
    "\n",
    "## 2. Generate mock dataset \n",
    "\n",
    "This dataset contains 20000 rows. The attributes are:\n",
    "- **gender**: male/female\n",
    "- **age**: int\n",
    "- **party**: KMT/Democratic Progressive Party\n",
    "- **hasMCTfamily**: 0/1\n",
    "    - if any of your family works as a military personnel, a civil servant or a teacher\n",
    "- **loveFerrisWheel**: 0/1\n",
    "- **loveChina**: 0/1\n",
    "- **willToReunification**: 0%~100%\n",
    "\n",
    "and the label indicates whether this person loves mayor Han or not:\n",
    "- **fanOfHan**: 0/1"
   ]
  },
  {
   "cell_type": "code",
   "execution_count": 1,
   "metadata": {},
   "outputs": [],
   "source": [
    "import pandas as pd\n",
    "import numpy as np\n",
    "import scipy as sp\n",
    "import random\n",
    "import math"
   ]
  },
  {
   "cell_type": "markdown",
   "metadata": {},
   "source": [
    "### gender\n",
    "- according to [wikipedia](https://zh.wikipedia.org/wiki/%E8%87%BA%E7%81%A3%E4%BA%BA%E5%8F%A3#%E4%BA%BA%E5%8F%A3), the average ratio of male and femail is about 0.99"
   ]
  },
  {
   "cell_type": "code",
   "execution_count": 2,
   "metadata": {},
   "outputs": [
    {
     "data": {
      "text/html": [
       "<div>\n",
       "<style scoped>\n",
       "    .dataframe tbody tr th:only-of-type {\n",
       "        vertical-align: middle;\n",
       "    }\n",
       "\n",
       "    .dataframe tbody tr th {\n",
       "        vertical-align: top;\n",
       "    }\n",
       "\n",
       "    .dataframe thead th {\n",
       "        text-align: right;\n",
       "    }\n",
       "</style>\n",
       "<table border=\"1\" class=\"dataframe\">\n",
       "  <thead>\n",
       "    <tr style=\"text-align: right;\">\n",
       "      <th></th>\n",
       "      <th>gender</th>\n",
       "    </tr>\n",
       "  </thead>\n",
       "  <tbody>\n",
       "    <tr>\n",
       "      <th>0</th>\n",
       "      <td>female</td>\n",
       "    </tr>\n",
       "    <tr>\n",
       "      <th>1</th>\n",
       "      <td>male</td>\n",
       "    </tr>\n",
       "    <tr>\n",
       "      <th>2</th>\n",
       "      <td>female</td>\n",
       "    </tr>\n",
       "    <tr>\n",
       "      <th>3</th>\n",
       "      <td>female</td>\n",
       "    </tr>\n",
       "    <tr>\n",
       "      <th>4</th>\n",
       "      <td>female</td>\n",
       "    </tr>\n",
       "  </tbody>\n",
       "</table>\n",
       "</div>"
      ],
      "text/plain": [
       "   gender\n",
       "0  female\n",
       "1    male\n",
       "2  female\n",
       "3  female\n",
       "4  female"
      ]
     },
     "execution_count": 2,
     "metadata": {},
     "output_type": "execute_result"
    }
   ],
   "source": [
    "def decideGenger(n):\n",
    "    return 'male' if n*random.uniform(0, 1) < 0.5 else 'female'\n",
    "\n",
    "pdata = pd.DataFrame(1, index=range(0,20000), columns=['gender'])\n",
    "pdata['gender'] = pdata['gender'].apply(decideGenger)\n",
    "pdata.head()"
   ]
  },
  {
   "cell_type": "markdown",
   "metadata": {},
   "source": [
    "### age\n",
    "- again, according to [wikipedia](https://zh.wikipedia.org/wiki/%E8%87%BA%E7%81%A3%E4%BA%BA%E5%8F%A3#%E4%BA%BA%E5%8F%A3), we can consider this a normal distribution\n",
    "- I simply set mean = 50, and std,dev = 16"
   ]
  },
  {
   "cell_type": "code",
   "execution_count": 3,
   "metadata": {},
   "outputs": [
    {
     "data": {
      "text/html": [
       "<div>\n",
       "<style scoped>\n",
       "    .dataframe tbody tr th:only-of-type {\n",
       "        vertical-align: middle;\n",
       "    }\n",
       "\n",
       "    .dataframe tbody tr th {\n",
       "        vertical-align: top;\n",
       "    }\n",
       "\n",
       "    .dataframe thead th {\n",
       "        text-align: right;\n",
       "    }\n",
       "</style>\n",
       "<table border=\"1\" class=\"dataframe\">\n",
       "  <thead>\n",
       "    <tr style=\"text-align: right;\">\n",
       "      <th></th>\n",
       "      <th>gender</th>\n",
       "      <th>age</th>\n",
       "    </tr>\n",
       "  </thead>\n",
       "  <tbody>\n",
       "    <tr>\n",
       "      <th>0</th>\n",
       "      <td>female</td>\n",
       "      <td>31</td>\n",
       "    </tr>\n",
       "    <tr>\n",
       "      <th>1</th>\n",
       "      <td>male</td>\n",
       "      <td>58</td>\n",
       "    </tr>\n",
       "    <tr>\n",
       "      <th>2</th>\n",
       "      <td>female</td>\n",
       "      <td>68</td>\n",
       "    </tr>\n",
       "    <tr>\n",
       "      <th>3</th>\n",
       "      <td>female</td>\n",
       "      <td>77</td>\n",
       "    </tr>\n",
       "    <tr>\n",
       "      <th>4</th>\n",
       "      <td>female</td>\n",
       "      <td>36</td>\n",
       "    </tr>\n",
       "  </tbody>\n",
       "</table>\n",
       "</div>"
      ],
      "text/plain": [
       "   gender  age\n",
       "0  female   31\n",
       "1    male   58\n",
       "2  female   68\n",
       "3  female   77\n",
       "4  female   36"
      ]
     },
     "execution_count": 3,
     "metadata": {},
     "output_type": "execute_result"
    }
   ],
   "source": [
    "# pdata['age'] = 0\n",
    "def decideAge(n):\n",
    "    if n < 15:\n",
    "        return 20\n",
    "    elif n > 90:\n",
    "        return 85\n",
    "\n",
    "mu, sigma = 50, 15 # mean and standard deviation\n",
    "pdata['age'] = np.random.normal(mu, sigma, 20000)\n",
    "pdata['age'] = pdata['age'].apply(round)\n",
    "pdata.head()"
   ]
  },
  {
   "cell_type": "markdown",
   "metadata": {},
   "source": [
    "### party\n",
    "- from the research [1992/06~2018/12](https://esc.nccu.edu.tw/app/news.php?Sn=165#), we can tell the party preference distribution.\n",
    "- random_percent = random(0, 1.0)\n",
    "- if random_percent <= 0.246, then 'Democratic Progressive Party'\n",
    "- else if 0.246 < random_percent <= 0.561, then 'KMT'\n",
    "- else 'none'\n",
    "![](https://i.imgur.com/2XfwH3V.png)\n",
    "(image source: [link](https://esc.nccu.edu.tw/app/news.php?Sn=165#))"
   ]
  },
  {
   "cell_type": "code",
   "execution_count": 4,
   "metadata": {},
   "outputs": [
    {
     "data": {
      "text/html": [
       "<div>\n",
       "<style scoped>\n",
       "    .dataframe tbody tr th:only-of-type {\n",
       "        vertical-align: middle;\n",
       "    }\n",
       "\n",
       "    .dataframe tbody tr th {\n",
       "        vertical-align: top;\n",
       "    }\n",
       "\n",
       "    .dataframe thead th {\n",
       "        text-align: right;\n",
       "    }\n",
       "</style>\n",
       "<table border=\"1\" class=\"dataframe\">\n",
       "  <thead>\n",
       "    <tr style=\"text-align: right;\">\n",
       "      <th></th>\n",
       "      <th>gender</th>\n",
       "      <th>age</th>\n",
       "      <th>party</th>\n",
       "    </tr>\n",
       "  </thead>\n",
       "  <tbody>\n",
       "    <tr>\n",
       "      <th>0</th>\n",
       "      <td>female</td>\n",
       "      <td>31</td>\n",
       "      <td>Democratic Progressive Party</td>\n",
       "    </tr>\n",
       "    <tr>\n",
       "      <th>1</th>\n",
       "      <td>male</td>\n",
       "      <td>58</td>\n",
       "      <td>Democratic Progressive Party</td>\n",
       "    </tr>\n",
       "    <tr>\n",
       "      <th>2</th>\n",
       "      <td>female</td>\n",
       "      <td>68</td>\n",
       "      <td>Democratic Progressive Party</td>\n",
       "    </tr>\n",
       "    <tr>\n",
       "      <th>3</th>\n",
       "      <td>female</td>\n",
       "      <td>77</td>\n",
       "      <td>none</td>\n",
       "    </tr>\n",
       "    <tr>\n",
       "      <th>4</th>\n",
       "      <td>female</td>\n",
       "      <td>36</td>\n",
       "      <td>KMT</td>\n",
       "    </tr>\n",
       "  </tbody>\n",
       "</table>\n",
       "</div>"
      ],
      "text/plain": [
       "   gender  age                         party\n",
       "0  female   31  Democratic Progressive Party\n",
       "1    male   58  Democratic Progressive Party\n",
       "2  female   68  Democratic Progressive Party\n",
       "3  female   77                          none\n",
       "4  female   36                           KMT"
      ]
     },
     "execution_count": 4,
     "metadata": {},
     "output_type": "execute_result"
    }
   ],
   "source": [
    "def decideParty(n):\n",
    "    n = n*random.uniform(0, 1)\n",
    "    if n <= 0.246:\n",
    "        return 'Democratic Progressive Party'\n",
    "    elif n > 0.246 and n <= 0.561:\n",
    "        return 'KMT'\n",
    "    else:\n",
    "        return 'none'\n",
    "\n",
    "pdata['party'] = 1\n",
    "pdata['party'] = pdata['party'].apply(decideParty)\n",
    "pdata.head()"
   ]
  },
  {
   "cell_type": "markdown",
   "metadata": {},
   "source": [
    "### willToReunification\n",
    "- one's will to reunification with China\n",
    "- if party == 'KMT', then there's 40%~100% of chance\n",
    "- else 0%~50%. I believe that no one wants this to happen"
   ]
  },
  {
   "cell_type": "code",
   "execution_count": 5,
   "metadata": {},
   "outputs": [
    {
     "data": {
      "text/html": [
       "<div>\n",
       "<style scoped>\n",
       "    .dataframe tbody tr th:only-of-type {\n",
       "        vertical-align: middle;\n",
       "    }\n",
       "\n",
       "    .dataframe tbody tr th {\n",
       "        vertical-align: top;\n",
       "    }\n",
       "\n",
       "    .dataframe thead th {\n",
       "        text-align: right;\n",
       "    }\n",
       "</style>\n",
       "<table border=\"1\" class=\"dataframe\">\n",
       "  <thead>\n",
       "    <tr style=\"text-align: right;\">\n",
       "      <th></th>\n",
       "      <th>gender</th>\n",
       "      <th>age</th>\n",
       "      <th>party</th>\n",
       "      <th>willToReunification</th>\n",
       "    </tr>\n",
       "  </thead>\n",
       "  <tbody>\n",
       "    <tr>\n",
       "      <th>0</th>\n",
       "      <td>female</td>\n",
       "      <td>31</td>\n",
       "      <td>Democratic Progressive Party</td>\n",
       "      <td>0.04</td>\n",
       "    </tr>\n",
       "    <tr>\n",
       "      <th>1</th>\n",
       "      <td>male</td>\n",
       "      <td>58</td>\n",
       "      <td>Democratic Progressive Party</td>\n",
       "      <td>0.98</td>\n",
       "    </tr>\n",
       "    <tr>\n",
       "      <th>2</th>\n",
       "      <td>female</td>\n",
       "      <td>68</td>\n",
       "      <td>Democratic Progressive Party</td>\n",
       "      <td>0.35</td>\n",
       "    </tr>\n",
       "    <tr>\n",
       "      <th>3</th>\n",
       "      <td>female</td>\n",
       "      <td>77</td>\n",
       "      <td>none</td>\n",
       "      <td>0.48</td>\n",
       "    </tr>\n",
       "    <tr>\n",
       "      <th>4</th>\n",
       "      <td>female</td>\n",
       "      <td>36</td>\n",
       "      <td>KMT</td>\n",
       "      <td>0.75</td>\n",
       "    </tr>\n",
       "  </tbody>\n",
       "</table>\n",
       "</div>"
      ],
      "text/plain": [
       "   gender  age                         party  willToReunification\n",
       "0  female   31  Democratic Progressive Party                 0.04\n",
       "1    male   58  Democratic Progressive Party                 0.98\n",
       "2  female   68  Democratic Progressive Party                 0.35\n",
       "3  female   77                          none                 0.48\n",
       "4  female   36                           KMT                 0.75"
      ]
     },
     "execution_count": 5,
     "metadata": {},
     "output_type": "execute_result"
    }
   ],
   "source": [
    "pdata['willToReunification'] = np.nan\n",
    "for index, row in pdata.iterrows():\n",
    "    pdata.at[index,'willToReunification'] = round(random.uniform(0.6, 1), 2) if row['party'] == 'KMT' else round(random.uniform(0, 1), 2)\n",
    "\n",
    "pdata.head()"
   ]
  },
  {
   "cell_type": "markdown",
   "metadata": {},
   "source": [
    "### hasMCTfamily\n",
    "- if one's family works as a **military personnel**, a **civil servant** or a **teacher** (軍公教人員), there's a great chance that he/she won't like Democratic Progressive Party, because of the \"pension reform (年金改革)\" policy, thus, he/she might be forced to support Han in order not to let Chi-Mai Chen, who stands for Democratic Progressive Party, win the election.\n",
    "- from [this report](http://www.fund.gov.tw/public/data/6851558871.pdf), I found that around 3% of population works as a military personnel, a civil servant or a teacher. and let's assume all their family feel sad for them and thus decide to select Mayor Han, with each family 6 people. That's total 18% approximately.\n",
    "- randomly choose 18% from dataset"
   ]
  },
  {
   "cell_type": "code",
   "execution_count": 6,
   "metadata": {},
   "outputs": [
    {
     "data": {
      "text/html": [
       "<div>\n",
       "<style scoped>\n",
       "    .dataframe tbody tr th:only-of-type {\n",
       "        vertical-align: middle;\n",
       "    }\n",
       "\n",
       "    .dataframe tbody tr th {\n",
       "        vertical-align: top;\n",
       "    }\n",
       "\n",
       "    .dataframe thead th {\n",
       "        text-align: right;\n",
       "    }\n",
       "</style>\n",
       "<table border=\"1\" class=\"dataframe\">\n",
       "  <thead>\n",
       "    <tr style=\"text-align: right;\">\n",
       "      <th></th>\n",
       "      <th>gender</th>\n",
       "      <th>age</th>\n",
       "      <th>party</th>\n",
       "      <th>willToReunification</th>\n",
       "      <th>hasMCTfamily</th>\n",
       "    </tr>\n",
       "  </thead>\n",
       "  <tbody>\n",
       "    <tr>\n",
       "      <th>0</th>\n",
       "      <td>female</td>\n",
       "      <td>31</td>\n",
       "      <td>Democratic Progressive Party</td>\n",
       "      <td>0.04</td>\n",
       "      <td>0</td>\n",
       "    </tr>\n",
       "    <tr>\n",
       "      <th>1</th>\n",
       "      <td>male</td>\n",
       "      <td>58</td>\n",
       "      <td>Democratic Progressive Party</td>\n",
       "      <td>0.98</td>\n",
       "      <td>0</td>\n",
       "    </tr>\n",
       "    <tr>\n",
       "      <th>2</th>\n",
       "      <td>female</td>\n",
       "      <td>68</td>\n",
       "      <td>Democratic Progressive Party</td>\n",
       "      <td>0.35</td>\n",
       "      <td>0</td>\n",
       "    </tr>\n",
       "    <tr>\n",
       "      <th>3</th>\n",
       "      <td>female</td>\n",
       "      <td>77</td>\n",
       "      <td>none</td>\n",
       "      <td>0.48</td>\n",
       "      <td>0</td>\n",
       "    </tr>\n",
       "    <tr>\n",
       "      <th>4</th>\n",
       "      <td>female</td>\n",
       "      <td>36</td>\n",
       "      <td>KMT</td>\n",
       "      <td>0.75</td>\n",
       "      <td>0</td>\n",
       "    </tr>\n",
       "  </tbody>\n",
       "</table>\n",
       "</div>"
      ],
      "text/plain": [
       "   gender  age                         party  willToReunification  \\\n",
       "0  female   31  Democratic Progressive Party                 0.04   \n",
       "1    male   58  Democratic Progressive Party                 0.98   \n",
       "2  female   68  Democratic Progressive Party                 0.35   \n",
       "3  female   77                          none                 0.48   \n",
       "4  female   36                           KMT                 0.75   \n",
       "\n",
       "   hasMCTfamily  \n",
       "0             0  \n",
       "1             0  \n",
       "2             0  \n",
       "3             0  \n",
       "4             0  "
      ]
     },
     "execution_count": 6,
     "metadata": {},
     "output_type": "execute_result"
    }
   ],
   "source": [
    "def decideMCTfamily(_):\n",
    "    n = random.uniform(0, 1)\n",
    "    return 1 if n <= 0.18 else 0\n",
    "\n",
    "pdata['hasMCTfamily'] = 1\n",
    "pdata['hasMCTfamily'] = pdata['hasMCTfamily'].apply(decideMCTfamily)\n",
    "pdata.head()"
   ]
  },
  {
   "cell_type": "markdown",
   "metadata": {},
   "source": [
    "### loveChina\n",
    "- it depends, but if one's prefered party is KMT, he/she 's more likely (70%) to love China\n",
    "- if party == 'KMT' and random_percent >= 0.3, then 1 \n",
    "- else 0"
   ]
  },
  {
   "cell_type": "code",
   "execution_count": 7,
   "metadata": {},
   "outputs": [
    {
     "data": {
      "text/html": [
       "<div>\n",
       "<style scoped>\n",
       "    .dataframe tbody tr th:only-of-type {\n",
       "        vertical-align: middle;\n",
       "    }\n",
       "\n",
       "    .dataframe tbody tr th {\n",
       "        vertical-align: top;\n",
       "    }\n",
       "\n",
       "    .dataframe thead th {\n",
       "        text-align: right;\n",
       "    }\n",
       "</style>\n",
       "<table border=\"1\" class=\"dataframe\">\n",
       "  <thead>\n",
       "    <tr style=\"text-align: right;\">\n",
       "      <th></th>\n",
       "      <th>gender</th>\n",
       "      <th>age</th>\n",
       "      <th>party</th>\n",
       "      <th>willToReunification</th>\n",
       "      <th>hasMCTfamily</th>\n",
       "      <th>loveChina</th>\n",
       "    </tr>\n",
       "  </thead>\n",
       "  <tbody>\n",
       "    <tr>\n",
       "      <th>0</th>\n",
       "      <td>female</td>\n",
       "      <td>31</td>\n",
       "      <td>Democratic Progressive Party</td>\n",
       "      <td>0.04</td>\n",
       "      <td>0</td>\n",
       "      <td>0</td>\n",
       "    </tr>\n",
       "    <tr>\n",
       "      <th>1</th>\n",
       "      <td>male</td>\n",
       "      <td>58</td>\n",
       "      <td>Democratic Progressive Party</td>\n",
       "      <td>0.98</td>\n",
       "      <td>0</td>\n",
       "      <td>0</td>\n",
       "    </tr>\n",
       "    <tr>\n",
       "      <th>2</th>\n",
       "      <td>female</td>\n",
       "      <td>68</td>\n",
       "      <td>Democratic Progressive Party</td>\n",
       "      <td>0.35</td>\n",
       "      <td>0</td>\n",
       "      <td>0</td>\n",
       "    </tr>\n",
       "    <tr>\n",
       "      <th>3</th>\n",
       "      <td>female</td>\n",
       "      <td>77</td>\n",
       "      <td>none</td>\n",
       "      <td>0.48</td>\n",
       "      <td>0</td>\n",
       "      <td>0</td>\n",
       "    </tr>\n",
       "    <tr>\n",
       "      <th>4</th>\n",
       "      <td>female</td>\n",
       "      <td>36</td>\n",
       "      <td>KMT</td>\n",
       "      <td>0.75</td>\n",
       "      <td>0</td>\n",
       "      <td>0</td>\n",
       "    </tr>\n",
       "  </tbody>\n",
       "</table>\n",
       "</div>"
      ],
      "text/plain": [
       "   gender  age                         party  willToReunification  \\\n",
       "0  female   31  Democratic Progressive Party                 0.04   \n",
       "1    male   58  Democratic Progressive Party                 0.98   \n",
       "2  female   68  Democratic Progressive Party                 0.35   \n",
       "3  female   77                          none                 0.48   \n",
       "4  female   36                           KMT                 0.75   \n",
       "\n",
       "   hasMCTfamily  loveChina  \n",
       "0             0          0  \n",
       "1             0          0  \n",
       "2             0          0  \n",
       "3             0          0  \n",
       "4             0          0  "
      ]
     },
     "execution_count": 7,
     "metadata": {},
     "output_type": "execute_result"
    }
   ],
   "source": [
    "pdata['loveChina'] = 1\n",
    "for index, row in pdata.iterrows():\n",
    "    pdata.at[index,'loveChina'] = 1 if row['party'] == 'KMT' and random.uniform(0, 1) > 0.3 else 0\n",
    "\n",
    "pdata.head()"
   ]
  },
  {
   "cell_type": "markdown",
   "metadata": {},
   "source": [
    "### loveFerrisWheel\n",
    "- haters' gonna hate.\n",
    "- randomly selected (50%)"
   ]
  },
  {
   "cell_type": "code",
   "execution_count": 8,
   "metadata": {},
   "outputs": [
    {
     "data": {
      "text/html": [
       "<div>\n",
       "<style scoped>\n",
       "    .dataframe tbody tr th:only-of-type {\n",
       "        vertical-align: middle;\n",
       "    }\n",
       "\n",
       "    .dataframe tbody tr th {\n",
       "        vertical-align: top;\n",
       "    }\n",
       "\n",
       "    .dataframe thead th {\n",
       "        text-align: right;\n",
       "    }\n",
       "</style>\n",
       "<table border=\"1\" class=\"dataframe\">\n",
       "  <thead>\n",
       "    <tr style=\"text-align: right;\">\n",
       "      <th></th>\n",
       "      <th>gender</th>\n",
       "      <th>age</th>\n",
       "      <th>party</th>\n",
       "      <th>willToReunification</th>\n",
       "      <th>hasMCTfamily</th>\n",
       "      <th>loveChina</th>\n",
       "      <th>loveFerrisWheel</th>\n",
       "    </tr>\n",
       "  </thead>\n",
       "  <tbody>\n",
       "    <tr>\n",
       "      <th>0</th>\n",
       "      <td>female</td>\n",
       "      <td>31</td>\n",
       "      <td>Democratic Progressive Party</td>\n",
       "      <td>0.04</td>\n",
       "      <td>0</td>\n",
       "      <td>0</td>\n",
       "      <td>0</td>\n",
       "    </tr>\n",
       "    <tr>\n",
       "      <th>1</th>\n",
       "      <td>male</td>\n",
       "      <td>58</td>\n",
       "      <td>Democratic Progressive Party</td>\n",
       "      <td>0.98</td>\n",
       "      <td>0</td>\n",
       "      <td>0</td>\n",
       "      <td>1</td>\n",
       "    </tr>\n",
       "    <tr>\n",
       "      <th>2</th>\n",
       "      <td>female</td>\n",
       "      <td>68</td>\n",
       "      <td>Democratic Progressive Party</td>\n",
       "      <td>0.35</td>\n",
       "      <td>0</td>\n",
       "      <td>0</td>\n",
       "      <td>0</td>\n",
       "    </tr>\n",
       "    <tr>\n",
       "      <th>3</th>\n",
       "      <td>female</td>\n",
       "      <td>77</td>\n",
       "      <td>none</td>\n",
       "      <td>0.48</td>\n",
       "      <td>0</td>\n",
       "      <td>0</td>\n",
       "      <td>1</td>\n",
       "    </tr>\n",
       "    <tr>\n",
       "      <th>4</th>\n",
       "      <td>female</td>\n",
       "      <td>36</td>\n",
       "      <td>KMT</td>\n",
       "      <td>0.75</td>\n",
       "      <td>0</td>\n",
       "      <td>0</td>\n",
       "      <td>1</td>\n",
       "    </tr>\n",
       "  </tbody>\n",
       "</table>\n",
       "</div>"
      ],
      "text/plain": [
       "   gender  age                         party  willToReunification  \\\n",
       "0  female   31  Democratic Progressive Party                 0.04   \n",
       "1    male   58  Democratic Progressive Party                 0.98   \n",
       "2  female   68  Democratic Progressive Party                 0.35   \n",
       "3  female   77                          none                 0.48   \n",
       "4  female   36                           KMT                 0.75   \n",
       "\n",
       "   hasMCTfamily  loveChina  loveFerrisWheel  \n",
       "0             0          0                0  \n",
       "1             0          0                1  \n",
       "2             0          0                0  \n",
       "3             0          0                1  \n",
       "4             0          0                1  "
      ]
     },
     "execution_count": 8,
     "metadata": {},
     "output_type": "execute_result"
    }
   ],
   "source": [
    "def decideLoveFerrisWheel(_):\n",
    "    return 1 if random.uniform(0, 1) < 0.5 else 0\n",
    "\n",
    "pdata['loveFerrisWheel'] = 1\n",
    "pdata['loveFerrisWheel'] = pdata['loveFerrisWheel'].apply(decideLoveFerrisWheel)\n",
    "pdata.head()"
   ]
  },
  {
   "cell_type": "markdown",
   "metadata": {},
   "source": [
    "## 3. Define rules:\n",
    "\n",
    "<img src=\"\" width=\"900\" />\n",
    "\n",
    "### fanOfHan\n",
    "Now I'm gonna label the dataset, and the following are the rules.\n",
    "1. if one's party is KMT => fan of Mayor Han\n",
    "2. if one's willing to reunification with China over 70% => fan of Mayor Han\n",
    "3. if one match 3 or more rules listed below => fan of Mayor Han\n",
    "    - loveChina = 1\n",
    "    - hasMCTfamily = 1\n",
    "    - loveFerrisWheel = 1\n",
    "    - gender = 'Female' and age >= 55"
   ]
  },
  {
   "cell_type": "code",
   "execution_count": 9,
   "metadata": {},
   "outputs": [
    {
     "data": {
      "text/html": [
       "<div>\n",
       "<style scoped>\n",
       "    .dataframe tbody tr th:only-of-type {\n",
       "        vertical-align: middle;\n",
       "    }\n",
       "\n",
       "    .dataframe tbody tr th {\n",
       "        vertical-align: top;\n",
       "    }\n",
       "\n",
       "    .dataframe thead th {\n",
       "        text-align: right;\n",
       "    }\n",
       "</style>\n",
       "<table border=\"1\" class=\"dataframe\">\n",
       "  <thead>\n",
       "    <tr style=\"text-align: right;\">\n",
       "      <th></th>\n",
       "      <th>gender</th>\n",
       "      <th>age</th>\n",
       "      <th>party</th>\n",
       "      <th>willToReunification</th>\n",
       "      <th>hasMCTfamily</th>\n",
       "      <th>loveChina</th>\n",
       "      <th>loveFerrisWheel</th>\n",
       "      <th>fanOfHan</th>\n",
       "    </tr>\n",
       "  </thead>\n",
       "  <tbody>\n",
       "    <tr>\n",
       "      <th>0</th>\n",
       "      <td>female</td>\n",
       "      <td>31</td>\n",
       "      <td>Democratic Progressive Party</td>\n",
       "      <td>0.04</td>\n",
       "      <td>0</td>\n",
       "      <td>0</td>\n",
       "      <td>0</td>\n",
       "      <td>0</td>\n",
       "    </tr>\n",
       "    <tr>\n",
       "      <th>1</th>\n",
       "      <td>male</td>\n",
       "      <td>58</td>\n",
       "      <td>Democratic Progressive Party</td>\n",
       "      <td>0.98</td>\n",
       "      <td>0</td>\n",
       "      <td>0</td>\n",
       "      <td>1</td>\n",
       "      <td>1</td>\n",
       "    </tr>\n",
       "    <tr>\n",
       "      <th>2</th>\n",
       "      <td>female</td>\n",
       "      <td>68</td>\n",
       "      <td>Democratic Progressive Party</td>\n",
       "      <td>0.35</td>\n",
       "      <td>0</td>\n",
       "      <td>0</td>\n",
       "      <td>0</td>\n",
       "      <td>1</td>\n",
       "    </tr>\n",
       "    <tr>\n",
       "      <th>3</th>\n",
       "      <td>female</td>\n",
       "      <td>77</td>\n",
       "      <td>none</td>\n",
       "      <td>0.48</td>\n",
       "      <td>0</td>\n",
       "      <td>0</td>\n",
       "      <td>1</td>\n",
       "      <td>1</td>\n",
       "    </tr>\n",
       "    <tr>\n",
       "      <th>4</th>\n",
       "      <td>female</td>\n",
       "      <td>36</td>\n",
       "      <td>KMT</td>\n",
       "      <td>0.75</td>\n",
       "      <td>0</td>\n",
       "      <td>0</td>\n",
       "      <td>1</td>\n",
       "      <td>1</td>\n",
       "    </tr>\n",
       "  </tbody>\n",
       "</table>\n",
       "</div>"
      ],
      "text/plain": [
       "   gender  age                         party  willToReunification  \\\n",
       "0  female   31  Democratic Progressive Party                 0.04   \n",
       "1    male   58  Democratic Progressive Party                 0.98   \n",
       "2  female   68  Democratic Progressive Party                 0.35   \n",
       "3  female   77                          none                 0.48   \n",
       "4  female   36                           KMT                 0.75   \n",
       "\n",
       "   hasMCTfamily  loveChina  loveFerrisWheel  fanOfHan  \n",
       "0             0          0                0         0  \n",
       "1             0          0                1         1  \n",
       "2             0          0                0         1  \n",
       "3             0          0                1         1  \n",
       "4             0          0                1         1  "
      ]
     },
     "execution_count": 9,
     "metadata": {},
     "output_type": "execute_result"
    }
   ],
   "source": [
    "pdata['fanOfHan'] = 0\n",
    "for index, row in pdata.iterrows():\n",
    "    if (row['party'] == 'KMT') or (row['willToReunification'] >= 0.9):\n",
    "        pdata.at[index,'fanOfHan'] = 1\n",
    "        continue\n",
    "    if (row['gender'] == 'female') and (row['age'] >= 55):\n",
    "        pdata.at[index,'fanOfHan'] = 1\n",
    "        continue\n",
    "        \n",
    "    match = 0\n",
    "    match = match + row['loveChina'] + row['hasMCTfamily'] + row['loveFerrisWheel']\n",
    "\n",
    "    pdata.at[index,'fanOfHan'] = 1 if match > 1 else 0\n",
    "\n",
    "# save the dataset as csv\n",
    "pdata.to_csv('mock_data.csv')\n",
    "pdata.head()"
   ]
  },
  {
   "cell_type": "markdown",
   "metadata": {},
   "source": [
    "## 4. Construct Decision Tree with tools:"
   ]
  },
  {
   "cell_type": "code",
   "execution_count": 10,
   "metadata": {},
   "outputs": [],
   "source": [
    "# from scipy.stats import logistic\n",
    "# def sigmoid(x):\n",
    "#     return 1 / (1 + math.exp(-x))\n",
    "\n",
    "# pdata['fanOfHan'] = 0\n",
    "# for index, row in pdata.iterrows():\n",
    "#     isAgedFemale = 1 if row['gender'] == 'Female' and row['age'] > 50 else 0\n",
    "#     isKMT = 1 if row['party'] == 'KMT' else 0\n",
    "#     percentage = (isAgedFemale*0.1) + (isKMT*0.99) + (row['hasMCTfamily']*0.8) + (row['loveFerrisWheel']*0.7) + (row['loveChina']*0.5) + (row['wantToReunification']*0.99)\n",
    "# #     percentage = logistic.cdf(percentage)\n",
    "#     percentage = sigmoid(percentage)\n",
    "# #     print(percentage)\n",
    "#     pdata.at[index,'fanOfHan'] = 1 if percentage > 0.9 else 0\n",
    "\n",
    "# pdata.head()"
   ]
  },
  {
   "cell_type": "markdown",
   "metadata": {},
   "source": [
    "### Deal with string"
   ]
  },
  {
   "cell_type": "code",
   "execution_count": 11,
   "metadata": {},
   "outputs": [
    {
     "data": {
      "text/html": [
       "<div>\n",
       "<style scoped>\n",
       "    .dataframe tbody tr th:only-of-type {\n",
       "        vertical-align: middle;\n",
       "    }\n",
       "\n",
       "    .dataframe tbody tr th {\n",
       "        vertical-align: top;\n",
       "    }\n",
       "\n",
       "    .dataframe thead th {\n",
       "        text-align: right;\n",
       "    }\n",
       "</style>\n",
       "<table border=\"1\" class=\"dataframe\">\n",
       "  <thead>\n",
       "    <tr style=\"text-align: right;\">\n",
       "      <th></th>\n",
       "      <th>gender</th>\n",
       "      <th>age</th>\n",
       "      <th>party</th>\n",
       "      <th>willToReunification</th>\n",
       "      <th>hasMCTfamily</th>\n",
       "      <th>loveChina</th>\n",
       "      <th>loveFerrisWheel</th>\n",
       "      <th>fanOfHan</th>\n",
       "    </tr>\n",
       "  </thead>\n",
       "  <tbody>\n",
       "    <tr>\n",
       "      <th>0</th>\n",
       "      <td>0</td>\n",
       "      <td>31</td>\n",
       "      <td>2</td>\n",
       "      <td>0.04</td>\n",
       "      <td>0</td>\n",
       "      <td>0</td>\n",
       "      <td>0</td>\n",
       "      <td>0</td>\n",
       "    </tr>\n",
       "    <tr>\n",
       "      <th>1</th>\n",
       "      <td>1</td>\n",
       "      <td>58</td>\n",
       "      <td>2</td>\n",
       "      <td>0.98</td>\n",
       "      <td>0</td>\n",
       "      <td>0</td>\n",
       "      <td>1</td>\n",
       "      <td>1</td>\n",
       "    </tr>\n",
       "    <tr>\n",
       "      <th>2</th>\n",
       "      <td>0</td>\n",
       "      <td>68</td>\n",
       "      <td>2</td>\n",
       "      <td>0.35</td>\n",
       "      <td>0</td>\n",
       "      <td>0</td>\n",
       "      <td>0</td>\n",
       "      <td>1</td>\n",
       "    </tr>\n",
       "    <tr>\n",
       "      <th>3</th>\n",
       "      <td>0</td>\n",
       "      <td>77</td>\n",
       "      <td>3</td>\n",
       "      <td>0.48</td>\n",
       "      <td>0</td>\n",
       "      <td>0</td>\n",
       "      <td>1</td>\n",
       "      <td>1</td>\n",
       "    </tr>\n",
       "    <tr>\n",
       "      <th>4</th>\n",
       "      <td>0</td>\n",
       "      <td>36</td>\n",
       "      <td>1</td>\n",
       "      <td>0.75</td>\n",
       "      <td>0</td>\n",
       "      <td>0</td>\n",
       "      <td>1</td>\n",
       "      <td>1</td>\n",
       "    </tr>\n",
       "  </tbody>\n",
       "</table>\n",
       "</div>"
      ],
      "text/plain": [
       "   gender  age  party  willToReunification  hasMCTfamily  loveChina  \\\n",
       "0       0   31      2                 0.04             0          0   \n",
       "1       1   58      2                 0.98             0          0   \n",
       "2       0   68      2                 0.35             0          0   \n",
       "3       0   77      3                 0.48             0          0   \n",
       "4       0   36      1                 0.75             0          0   \n",
       "\n",
       "   loveFerrisWheel  fanOfHan  \n",
       "0                0         0  \n",
       "1                1         1  \n",
       "2                0         1  \n",
       "3                1         1  \n",
       "4                1         1  "
      ]
     },
     "execution_count": 11,
     "metadata": {},
     "output_type": "execute_result"
    }
   ],
   "source": [
    "# gender\n",
    "gender_map = {'male': 1, 'female': 0}\n",
    "pdata['gender'] = pdata['gender'].map(gender_map)\n",
    "\n",
    "# party\n",
    "party_map = {'KMT': 1, 'Democratic Progressive Party': 2, 'none': 3}\n",
    "pdata['party'] = pdata['party'].map(party_map)\n",
    "\n",
    "pdata.head()"
   ]
  },
  {
   "cell_type": "markdown",
   "metadata": {},
   "source": [
    "### Seperate to training set and testing set"
   ]
  },
  {
   "cell_type": "code",
   "execution_count": 12,
   "metadata": {},
   "outputs": [],
   "source": [
    "pdata_train = pdata[:15000]\n",
    "pdata_test = pdata[15000:]"
   ]
  },
  {
   "cell_type": "markdown",
   "metadata": {},
   "source": [
    "### Seperate attributes and answer"
   ]
  },
  {
   "cell_type": "code",
   "execution_count": 13,
   "metadata": {},
   "outputs": [],
   "source": [
    "y = pdata_train['fanOfHan'].values\n",
    "pdata_train = pdata_train.drop('fanOfHan', axis=1)"
   ]
  },
  {
   "cell_type": "markdown",
   "metadata": {},
   "source": [
    "### Draw Decision Tree"
   ]
  },
  {
   "cell_type": "code",
   "execution_count": 14,
   "metadata": {},
   "outputs": [
    {
     "data": {
      "text/plain": [
       "True"
      ]
     },
     "execution_count": 14,
     "metadata": {},
     "output_type": "execute_result"
    }
   ],
   "source": [
    "from sklearn.tree import DecisionTreeClassifier\n",
    "from sklearn.externals.six import StringIO\n",
    "from sklearn.tree import export_graphviz\n",
    "import pydotplus\n",
    "\n",
    "dtree=DecisionTreeClassifier(max_depth=4)\n",
    "dtree.fit(pdata_train, y)\n",
    "\n",
    "dot_data = StringIO()\n",
    "export_graphviz(dtree, \n",
    "                out_file=dot_data,  \n",
    "                filled=True, \n",
    "                feature_names=list(pdata_train),\n",
    "                class_names=['Chi Mai','Mayor Han'],\n",
    "                special_characters=True)\n",
    "\n",
    "graph = pydotplus.graph_from_dot_data(dot_data.getvalue())\n",
    "# graph.write_pdf(\"tree.pdf\")\n",
    "graph.write_png(\"tree.png\")"
   ]
  },
  {
   "cell_type": "markdown",
   "metadata": {},
   "source": [
    "<img src=\"tree.png\" width=\"900\" />"
   ]
  },
  {
   "cell_type": "markdown",
   "metadata": {},
   "source": [
    "## 5. Compare with rules and then calculate accuracy"
   ]
  },
  {
   "cell_type": "code",
   "execution_count": 15,
   "metadata": {},
   "outputs": [
    {
     "data": {
      "text/plain": [
       "array([0, 1, 0, ..., 1, 1, 1])"
      ]
     },
     "execution_count": 15,
     "metadata": {},
     "output_type": "execute_result"
    }
   ],
   "source": [
    "y_test = pdata_test['fanOfHan'].values\n",
    "X_test = pdata_test.drop('fanOfHan', axis=1)\n",
    "\n",
    "y_predict = dtree.predict(X_test)\n",
    "\n",
    "y_predict"
   ]
  },
  {
   "cell_type": "code",
   "execution_count": 16,
   "metadata": {},
   "outputs": [
    {
     "data": {
      "text/plain": [
       "0.9534"
      ]
     },
     "execution_count": 16,
     "metadata": {},
     "output_type": "execute_result"
    }
   ],
   "source": [
    "from sklearn.metrics import accuracy_score\n",
    "\n",
    "accuracy_score(y_test, y_predict)"
   ]
  },
  {
   "cell_type": "markdown",
   "metadata": {},
   "source": [
    "## 6. Futher Discussion\n",
    "### If we add some noise to the dataset, what will the tree be like?"
   ]
  },
  {
   "cell_type": "code",
   "execution_count": 17,
   "metadata": {},
   "outputs": [
    {
     "name": "stdout",
     "output_type": "stream",
     "text": [
      "[18017, 10922, 11176, 14529, 11426, 9655, 15047, 8442, 13303, 19860, 14225, 1646, 15343, 19160, 12638, 13237, 11183, 5700, 18951, 3614, 10464, 2395, 17058, 13596, 1642, 2915, 6624, 16380, 7378, 2619, 14297, 18158, 4906, 18037, 12811, 986, 4770, 17544, 3875, 7827, 6887, 6741, 6580, 13239, 1742, 11194, 17723, 16407, 7479]\n"
     ]
    },
    {
     "data": {
      "text/html": [
       "<div>\n",
       "<style scoped>\n",
       "    .dataframe tbody tr th:only-of-type {\n",
       "        vertical-align: middle;\n",
       "    }\n",
       "\n",
       "    .dataframe tbody tr th {\n",
       "        vertical-align: top;\n",
       "    }\n",
       "\n",
       "    .dataframe thead th {\n",
       "        text-align: right;\n",
       "    }\n",
       "</style>\n",
       "<table border=\"1\" class=\"dataframe\">\n",
       "  <thead>\n",
       "    <tr style=\"text-align: right;\">\n",
       "      <th></th>\n",
       "      <th>gender</th>\n",
       "      <th>age</th>\n",
       "      <th>party</th>\n",
       "      <th>willToReunification</th>\n",
       "      <th>hasMCTfamily</th>\n",
       "      <th>loveChina</th>\n",
       "      <th>loveFerrisWheel</th>\n",
       "    </tr>\n",
       "  </thead>\n",
       "  <tbody>\n",
       "    <tr>\n",
       "      <th>0</th>\n",
       "      <td>0</td>\n",
       "      <td>31</td>\n",
       "      <td>2</td>\n",
       "      <td>0.04</td>\n",
       "      <td>0</td>\n",
       "      <td>0</td>\n",
       "      <td>0</td>\n",
       "    </tr>\n",
       "    <tr>\n",
       "      <th>1</th>\n",
       "      <td>1</td>\n",
       "      <td>58</td>\n",
       "      <td>2</td>\n",
       "      <td>0.98</td>\n",
       "      <td>0</td>\n",
       "      <td>0</td>\n",
       "      <td>1</td>\n",
       "    </tr>\n",
       "    <tr>\n",
       "      <th>2</th>\n",
       "      <td>0</td>\n",
       "      <td>68</td>\n",
       "      <td>2</td>\n",
       "      <td>0.35</td>\n",
       "      <td>0</td>\n",
       "      <td>0</td>\n",
       "      <td>0</td>\n",
       "    </tr>\n",
       "    <tr>\n",
       "      <th>3</th>\n",
       "      <td>0</td>\n",
       "      <td>77</td>\n",
       "      <td>3</td>\n",
       "      <td>0.48</td>\n",
       "      <td>0</td>\n",
       "      <td>0</td>\n",
       "      <td>1</td>\n",
       "    </tr>\n",
       "    <tr>\n",
       "      <th>4</th>\n",
       "      <td>0</td>\n",
       "      <td>36</td>\n",
       "      <td>1</td>\n",
       "      <td>0.75</td>\n",
       "      <td>0</td>\n",
       "      <td>0</td>\n",
       "      <td>1</td>\n",
       "    </tr>\n",
       "  </tbody>\n",
       "</table>\n",
       "</div>"
      ],
      "text/plain": [
       "   gender  age  party  willToReunification  hasMCTfamily  loveChina  \\\n",
       "0       0   31      2                 0.04             0          0   \n",
       "1       1   58      2                 0.98             0          0   \n",
       "2       0   68      2                 0.35             0          0   \n",
       "3       0   77      3                 0.48             0          0   \n",
       "4       0   36      1                 0.75             0          0   \n",
       "\n",
       "   loveFerrisWheel  \n",
       "0                0  \n",
       "1                1  \n",
       "2                0  \n",
       "3                1  \n",
       "4                1  "
      ]
     },
     "execution_count": 17,
     "metadata": {},
     "output_type": "execute_result"
    }
   ],
   "source": [
    "test_data = pdata.copy()\n",
    "idx = list(random.randint(0, 20000-1) for x in range(1, 50))\n",
    "print(idx)\n",
    "for i in idx:\n",
    "    test_data.loc[i] = [\n",
    "        random.randint(0, 1),\n",
    "        random.randint(20, 90),\n",
    "        random.randint(1, 3),\n",
    "        random.uniform(0, 1),\n",
    "        random.randint(0, 1),\n",
    "        random.randint(0, 1),\n",
    "        random.randint(0, 1),\n",
    "        random.randint(0, 1)\n",
    "    ]\n",
    "\n",
    "test_data_train = test_data[:15000]\n",
    "test_data_test = test_data[15000:]\n",
    "test_y = test_data_train['fanOfHan'].values\n",
    "test_data_train = test_data_train.drop('fanOfHan', axis=1)\n",
    "test_data_train.head()"
   ]
  },
  {
   "cell_type": "code",
   "execution_count": 18,
   "metadata": {},
   "outputs": [
    {
     "data": {
      "text/plain": [
       "True"
      ]
     },
     "execution_count": 18,
     "metadata": {},
     "output_type": "execute_result"
    }
   ],
   "source": [
    "dtree.fit(test_data_train, y)\n",
    "\n",
    "dot_data = StringIO()\n",
    "export_graphviz(dtree, \n",
    "                out_file=dot_data,  \n",
    "                filled=True, \n",
    "                feature_names=list(test_data_train),\n",
    "                class_names=['Chi Mai','Mayor Han'],\n",
    "                special_characters=True)\n",
    "\n",
    "graph = pydotplus.graph_from_dot_data(dot_data.getvalue())\n",
    "graph.write_png(\"data/test_tree.png\")"
   ]
  },
  {
   "cell_type": "markdown",
   "metadata": {},
   "source": [
    "<img src=\"data/test_tree.png\" width=\"900\" />"
   ]
  },
  {
   "cell_type": "markdown",
   "metadata": {},
   "source": [
    "The tree became a mess.\n",
    "\n",
    "It shows that Decision Tree is prone to noise, even though only 0.25% of dataset is randomly made.\n",
    "\n",
    "### What about the accuracy?"
   ]
  },
  {
   "cell_type": "code",
   "execution_count": 19,
   "metadata": {},
   "outputs": [
    {
     "data": {
      "text/plain": [
       "0.9522"
      ]
     },
     "execution_count": 19,
     "metadata": {},
     "output_type": "execute_result"
    }
   ],
   "source": [
    "y_test = test_data_test['fanOfHan'].values\n",
    "X_test = test_data_test.drop('fanOfHan', axis=1)\n",
    "\n",
    "y_predict = dtree.predict(X_test)\n",
    "\n",
    "accuracy_score(y_test, y_predict)"
   ]
  },
  {
   "cell_type": "markdown",
   "metadata": {},
   "source": [
    "Seems like the accuracy isn't affected that much. The tree is still well functioning whle it looks complicated."
   ]
  },
  {
   "cell_type": "code",
   "execution_count": null,
   "metadata": {},
   "outputs": [],
   "source": []
  },
  {
   "cell_type": "code",
   "execution_count": null,
   "metadata": {},
   "outputs": [],
   "source": []
  }
 ],
 "metadata": {
  "kernelspec": {
   "display_name": "Python 3",
   "language": "python",
   "name": "python3"
  },
  "language_info": {
   "codemirror_mode": {
    "name": "ipython",
    "version": 3
   },
   "file_extension": ".py",
   "mimetype": "text/x-python",
   "name": "python",
   "nbconvert_exporter": "python",
   "pygments_lexer": "ipython3",
   "version": "3.6.7"
  }
 },
 "nbformat": 4,
 "nbformat_minor": 2
}
