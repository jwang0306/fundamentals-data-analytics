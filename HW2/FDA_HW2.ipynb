{
 "cells": [
  {
   "cell_type": "markdown",
   "metadata": {},
   "source": [
    "# Are you a fan of Mayor Han?\n",
    "\n",
    "<img src=\"https://i.imgur.com/GgPPfk4.png\" width=\"900\" />\n",
    "\n",
    "(image source: [link](https://www.storm.mg/article/525105?srcid=gAAAAABcsea_WZX1btdtDfPbAuBP8p_-9GcnyFvKDxXCZIjJg9dNW26Gskj7oZGDlmsQQjZQq_6v0Pqx57FbQhbMy7_D2Mveyf8pecA6NS_0Kxhj9N1P1CI%253D))\n",
    "\n",
    "## 1. Define Question\n",
    "Recently, Mayor of Kaohsiung Han Kuo-yu (韓國瑜) is in fasion, and even his name became a buzzword.\n",
    "In this section, I'll **determine whether a person is a fan of Mayor Han**.\n",
    "\n",
    "## 2. Design attributes (features)\n",
    "This dataset contains 20000 rows. The attributes are:\n",
    "- **gender**: male/female\n",
    "- **age**: int\n",
    "- **party**: KMT/Democratic Progressive Party/None\n",
    "- **hasMCTfamily**: 0/1\n",
    "    - if any of your family works as a military personnel, a civil servant or a teacher\n",
    "- **loveFerrisWheel**: 0/1\n",
    "- **loveChina**: 0/1\n",
    "- **willToReunification**: 0%~100%\n",
    "\n",
    "and the label indicates whether this person loves mayor Han or not:\n",
    "- **fanOfHan**: 0/1\n",
    "\n",
    "## 3. Define rules:\n",
    "This is a simple decision tree that defined the rules.\n",
    "<img src=\"imgs/rules_simple.png\" width=\"700\" />\n",
    "\n",
    "\n",
    "## 4. Generate mock dataset "
   ]
  },
  {
   "cell_type": "code",
   "execution_count": 1,
   "metadata": {},
   "outputs": [],
   "source": [
    "import pandas as pd\n",
    "import numpy as np\n",
    "import scipy as sp\n",
    "import random\n",
    "import math"
   ]
  },
  {
   "cell_type": "markdown",
   "metadata": {},
   "source": [
    "### gender\n",
    "- according to [wikipedia](https://zh.wikipedia.org/wiki/%E8%87%BA%E7%81%A3%E4%BA%BA%E5%8F%A3#%E4%BA%BA%E5%8F%A3), the average ratio of male and femail is about 0.99"
   ]
  },
  {
   "cell_type": "code",
   "execution_count": 2,
   "metadata": {},
   "outputs": [
    {
     "data": {
      "text/html": [
       "<div>\n",
       "<style scoped>\n",
       "    .dataframe tbody tr th:only-of-type {\n",
       "        vertical-align: middle;\n",
       "    }\n",
       "\n",
       "    .dataframe tbody tr th {\n",
       "        vertical-align: top;\n",
       "    }\n",
       "\n",
       "    .dataframe thead th {\n",
       "        text-align: right;\n",
       "    }\n",
       "</style>\n",
       "<table border=\"1\" class=\"dataframe\">\n",
       "  <thead>\n",
       "    <tr style=\"text-align: right;\">\n",
       "      <th></th>\n",
       "      <th>gender</th>\n",
       "    </tr>\n",
       "  </thead>\n",
       "  <tbody>\n",
       "    <tr>\n",
       "      <th>0</th>\n",
       "      <td>male</td>\n",
       "    </tr>\n",
       "    <tr>\n",
       "      <th>1</th>\n",
       "      <td>female</td>\n",
       "    </tr>\n",
       "    <tr>\n",
       "      <th>2</th>\n",
       "      <td>male</td>\n",
       "    </tr>\n",
       "    <tr>\n",
       "      <th>3</th>\n",
       "      <td>male</td>\n",
       "    </tr>\n",
       "    <tr>\n",
       "      <th>4</th>\n",
       "      <td>female</td>\n",
       "    </tr>\n",
       "  </tbody>\n",
       "</table>\n",
       "</div>"
      ],
      "text/plain": [
       "   gender\n",
       "0    male\n",
       "1  female\n",
       "2    male\n",
       "3    male\n",
       "4  female"
      ]
     },
     "execution_count": 2,
     "metadata": {},
     "output_type": "execute_result"
    }
   ],
   "source": [
    "def decideGenger(n):\n",
    "    return 'male' if n*random.uniform(0, 1) < 0.5 else 'female'\n",
    "\n",
    "pdata = pd.DataFrame(1, index=range(0,20000), columns=['gender'])\n",
    "pdata['gender'] = pdata['gender'].apply(decideGenger)\n",
    "pdata.head()"
   ]
  },
  {
   "cell_type": "markdown",
   "metadata": {},
   "source": [
    "### age\n",
    "- again, according to [wikipedia](https://zh.wikipedia.org/wiki/%E8%87%BA%E7%81%A3%E4%BA%BA%E5%8F%A3#%E4%BA%BA%E5%8F%A3), we can consider this a normal distribution\n",
    "- I simply set mean = 50, and std,dev = 16"
   ]
  },
  {
   "cell_type": "code",
   "execution_count": 3,
   "metadata": {},
   "outputs": [
    {
     "data": {
      "text/html": [
       "<div>\n",
       "<style scoped>\n",
       "    .dataframe tbody tr th:only-of-type {\n",
       "        vertical-align: middle;\n",
       "    }\n",
       "\n",
       "    .dataframe tbody tr th {\n",
       "        vertical-align: top;\n",
       "    }\n",
       "\n",
       "    .dataframe thead th {\n",
       "        text-align: right;\n",
       "    }\n",
       "</style>\n",
       "<table border=\"1\" class=\"dataframe\">\n",
       "  <thead>\n",
       "    <tr style=\"text-align: right;\">\n",
       "      <th></th>\n",
       "      <th>gender</th>\n",
       "      <th>age</th>\n",
       "    </tr>\n",
       "  </thead>\n",
       "  <tbody>\n",
       "    <tr>\n",
       "      <th>0</th>\n",
       "      <td>male</td>\n",
       "      <td>59</td>\n",
       "    </tr>\n",
       "    <tr>\n",
       "      <th>1</th>\n",
       "      <td>female</td>\n",
       "      <td>45</td>\n",
       "    </tr>\n",
       "    <tr>\n",
       "      <th>2</th>\n",
       "      <td>male</td>\n",
       "      <td>45</td>\n",
       "    </tr>\n",
       "    <tr>\n",
       "      <th>3</th>\n",
       "      <td>male</td>\n",
       "      <td>51</td>\n",
       "    </tr>\n",
       "    <tr>\n",
       "      <th>4</th>\n",
       "      <td>female</td>\n",
       "      <td>60</td>\n",
       "    </tr>\n",
       "  </tbody>\n",
       "</table>\n",
       "</div>"
      ],
      "text/plain": [
       "   gender  age\n",
       "0    male   59\n",
       "1  female   45\n",
       "2    male   45\n",
       "3    male   51\n",
       "4  female   60"
      ]
     },
     "execution_count": 3,
     "metadata": {},
     "output_type": "execute_result"
    }
   ],
   "source": [
    "# pdata['age'] = 0\n",
    "def decideAge(n):\n",
    "    if n < 15:\n",
    "        return 20\n",
    "    elif n > 90:\n",
    "        return 85\n",
    "\n",
    "mu, sigma = 50, 15 # mean and standard deviation\n",
    "pdata['age'] = np.random.normal(mu, sigma, 20000)\n",
    "pdata['age'] = pdata['age'].apply(round)\n",
    "pdata.head()"
   ]
  },
  {
   "cell_type": "markdown",
   "metadata": {},
   "source": [
    "### party\n",
    "- from the research [1992/06~2018/12](https://esc.nccu.edu.tw/app/news.php?Sn=165#), we can tell the party preference distribution.\n",
    "- random_percent = random(0, 1.0)\n",
    "- if random_percent <= 0.246, then 'Democratic Progressive Party'\n",
    "- else if 0.246 < random_percent <= 0.561, then 'KMT'\n",
    "- else 'none'\n",
    "![](https://i.imgur.com/2XfwH3V.png)\n",
    "(image source: [link](https://esc.nccu.edu.tw/app/news.php?Sn=165#))"
   ]
  },
  {
   "cell_type": "code",
   "execution_count": 4,
   "metadata": {},
   "outputs": [
    {
     "data": {
      "text/html": [
       "<div>\n",
       "<style scoped>\n",
       "    .dataframe tbody tr th:only-of-type {\n",
       "        vertical-align: middle;\n",
       "    }\n",
       "\n",
       "    .dataframe tbody tr th {\n",
       "        vertical-align: top;\n",
       "    }\n",
       "\n",
       "    .dataframe thead th {\n",
       "        text-align: right;\n",
       "    }\n",
       "</style>\n",
       "<table border=\"1\" class=\"dataframe\">\n",
       "  <thead>\n",
       "    <tr style=\"text-align: right;\">\n",
       "      <th></th>\n",
       "      <th>gender</th>\n",
       "      <th>age</th>\n",
       "      <th>party</th>\n",
       "    </tr>\n",
       "  </thead>\n",
       "  <tbody>\n",
       "    <tr>\n",
       "      <th>0</th>\n",
       "      <td>male</td>\n",
       "      <td>59</td>\n",
       "      <td>None</td>\n",
       "    </tr>\n",
       "    <tr>\n",
       "      <th>1</th>\n",
       "      <td>female</td>\n",
       "      <td>45</td>\n",
       "      <td>Democratic Progressive Party</td>\n",
       "    </tr>\n",
       "    <tr>\n",
       "      <th>2</th>\n",
       "      <td>male</td>\n",
       "      <td>45</td>\n",
       "      <td>Democratic Progressive Party</td>\n",
       "    </tr>\n",
       "    <tr>\n",
       "      <th>3</th>\n",
       "      <td>male</td>\n",
       "      <td>51</td>\n",
       "      <td>Democratic Progressive Party</td>\n",
       "    </tr>\n",
       "    <tr>\n",
       "      <th>4</th>\n",
       "      <td>female</td>\n",
       "      <td>60</td>\n",
       "      <td>KMT</td>\n",
       "    </tr>\n",
       "  </tbody>\n",
       "</table>\n",
       "</div>"
      ],
      "text/plain": [
       "   gender  age                         party\n",
       "0    male   59                          None\n",
       "1  female   45  Democratic Progressive Party\n",
       "2    male   45  Democratic Progressive Party\n",
       "3    male   51  Democratic Progressive Party\n",
       "4  female   60                           KMT"
      ]
     },
     "execution_count": 4,
     "metadata": {},
     "output_type": "execute_result"
    }
   ],
   "source": [
    "def decideParty(n):\n",
    "    n = n*random.uniform(0, 1)\n",
    "    if n <= 0.246:\n",
    "        return 'Democratic Progressive Party'\n",
    "    elif n > 0.246 and n <= 0.561:\n",
    "        return 'KMT'\n",
    "    else:\n",
    "        return 'None'\n",
    "\n",
    "pdata['party'] = 1\n",
    "pdata['party'] = pdata['party'].apply(decideParty)\n",
    "pdata.head()"
   ]
  },
  {
   "cell_type": "markdown",
   "metadata": {},
   "source": [
    "### hasMCTfamily\n",
    "- if one's family works as a **military personnel**, a **civil servant** or a **teacher** (軍公教人員), there's a great chance that he/she won't like Democratic Progressive Party, because of the \"pension reform (年金改革)\" policy, thus, he/she might be forced to support Han in order not to let Chi-Mai Chen, who stands for Democratic Progressive Party, win the election.\n",
    "- from [this report](http://www.fund.gov.tw/public/data/6851558871.pdf), I found that around 3% of population works as a military personnel, a civil servant or a teacher. and let's assume all their family feel sad for them and thus decide to select Mayor Han, with each family 6 people. That's total 18% approximately.\n",
    "- randomly choose 18% from dataset"
   ]
  },
  {
   "cell_type": "code",
   "execution_count": 5,
   "metadata": {},
   "outputs": [
    {
     "data": {
      "text/html": [
       "<div>\n",
       "<style scoped>\n",
       "    .dataframe tbody tr th:only-of-type {\n",
       "        vertical-align: middle;\n",
       "    }\n",
       "\n",
       "    .dataframe tbody tr th {\n",
       "        vertical-align: top;\n",
       "    }\n",
       "\n",
       "    .dataframe thead th {\n",
       "        text-align: right;\n",
       "    }\n",
       "</style>\n",
       "<table border=\"1\" class=\"dataframe\">\n",
       "  <thead>\n",
       "    <tr style=\"text-align: right;\">\n",
       "      <th></th>\n",
       "      <th>gender</th>\n",
       "      <th>age</th>\n",
       "      <th>party</th>\n",
       "      <th>hasMCTfamily</th>\n",
       "    </tr>\n",
       "  </thead>\n",
       "  <tbody>\n",
       "    <tr>\n",
       "      <th>0</th>\n",
       "      <td>male</td>\n",
       "      <td>59</td>\n",
       "      <td>None</td>\n",
       "      <td>0</td>\n",
       "    </tr>\n",
       "    <tr>\n",
       "      <th>1</th>\n",
       "      <td>female</td>\n",
       "      <td>45</td>\n",
       "      <td>Democratic Progressive Party</td>\n",
       "      <td>0</td>\n",
       "    </tr>\n",
       "    <tr>\n",
       "      <th>2</th>\n",
       "      <td>male</td>\n",
       "      <td>45</td>\n",
       "      <td>Democratic Progressive Party</td>\n",
       "      <td>0</td>\n",
       "    </tr>\n",
       "    <tr>\n",
       "      <th>3</th>\n",
       "      <td>male</td>\n",
       "      <td>51</td>\n",
       "      <td>Democratic Progressive Party</td>\n",
       "      <td>0</td>\n",
       "    </tr>\n",
       "    <tr>\n",
       "      <th>4</th>\n",
       "      <td>female</td>\n",
       "      <td>60</td>\n",
       "      <td>KMT</td>\n",
       "      <td>0</td>\n",
       "    </tr>\n",
       "  </tbody>\n",
       "</table>\n",
       "</div>"
      ],
      "text/plain": [
       "   gender  age                         party  hasMCTfamily\n",
       "0    male   59                          None             0\n",
       "1  female   45  Democratic Progressive Party             0\n",
       "2    male   45  Democratic Progressive Party             0\n",
       "3    male   51  Democratic Progressive Party             0\n",
       "4  female   60                           KMT             0"
      ]
     },
     "execution_count": 5,
     "metadata": {},
     "output_type": "execute_result"
    }
   ],
   "source": [
    "def decideMCTfamily(_):\n",
    "    n = random.uniform(0, 1)\n",
    "    return 1 if n <= 0.18 else 0\n",
    "\n",
    "pdata['hasMCTfamily'] = 1\n",
    "pdata['hasMCTfamily'] = pdata['hasMCTfamily'].apply(decideMCTfamily)\n",
    "pdata.head()"
   ]
  },
  {
   "cell_type": "markdown",
   "metadata": {},
   "source": [
    "### loveMoney\n",
    "- \"Sell Goods, welcome people, prosperous Kaohsiung.\" --- by Mayor Han\n",
    "- most people love money."
   ]
  },
  {
   "cell_type": "code",
   "execution_count": 6,
   "metadata": {},
   "outputs": [
    {
     "data": {
      "text/html": [
       "<div>\n",
       "<style scoped>\n",
       "    .dataframe tbody tr th:only-of-type {\n",
       "        vertical-align: middle;\n",
       "    }\n",
       "\n",
       "    .dataframe tbody tr th {\n",
       "        vertical-align: top;\n",
       "    }\n",
       "\n",
       "    .dataframe thead th {\n",
       "        text-align: right;\n",
       "    }\n",
       "</style>\n",
       "<table border=\"1\" class=\"dataframe\">\n",
       "  <thead>\n",
       "    <tr style=\"text-align: right;\">\n",
       "      <th></th>\n",
       "      <th>gender</th>\n",
       "      <th>age</th>\n",
       "      <th>party</th>\n",
       "      <th>hasMCTfamily</th>\n",
       "      <th>loveMoney</th>\n",
       "    </tr>\n",
       "  </thead>\n",
       "  <tbody>\n",
       "    <tr>\n",
       "      <th>0</th>\n",
       "      <td>male</td>\n",
       "      <td>59</td>\n",
       "      <td>None</td>\n",
       "      <td>0</td>\n",
       "      <td>0</td>\n",
       "    </tr>\n",
       "    <tr>\n",
       "      <th>1</th>\n",
       "      <td>female</td>\n",
       "      <td>45</td>\n",
       "      <td>Democratic Progressive Party</td>\n",
       "      <td>0</td>\n",
       "      <td>1</td>\n",
       "    </tr>\n",
       "    <tr>\n",
       "      <th>2</th>\n",
       "      <td>male</td>\n",
       "      <td>45</td>\n",
       "      <td>Democratic Progressive Party</td>\n",
       "      <td>0</td>\n",
       "      <td>1</td>\n",
       "    </tr>\n",
       "    <tr>\n",
       "      <th>3</th>\n",
       "      <td>male</td>\n",
       "      <td>51</td>\n",
       "      <td>Democratic Progressive Party</td>\n",
       "      <td>0</td>\n",
       "      <td>0</td>\n",
       "    </tr>\n",
       "    <tr>\n",
       "      <th>4</th>\n",
       "      <td>female</td>\n",
       "      <td>60</td>\n",
       "      <td>KMT</td>\n",
       "      <td>0</td>\n",
       "      <td>1</td>\n",
       "    </tr>\n",
       "  </tbody>\n",
       "</table>\n",
       "</div>"
      ],
      "text/plain": [
       "   gender  age                         party  hasMCTfamily  loveMoney\n",
       "0    male   59                          None             0          0\n",
       "1  female   45  Democratic Progressive Party             0          1\n",
       "2    male   45  Democratic Progressive Party             0          1\n",
       "3    male   51  Democratic Progressive Party             0          0\n",
       "4  female   60                           KMT             0          1"
      ]
     },
     "execution_count": 6,
     "metadata": {},
     "output_type": "execute_result"
    }
   ],
   "source": [
    "pdata['loveMoney'] = 1\n",
    "for index, row in pdata.iterrows():\n",
    "#     pdata.at[index,'loveChina'] = 1 if row['party'] == 'KMT' and random.uniform(0, 1) > 0.3 else 0\n",
    "    pdata.at[index,'loveMoney'] = random.randint(0, 1) # 1 if random.uniform(0, 1) > 0.5 else 0\n",
    "\n",
    "pdata.head()"
   ]
  },
  {
   "cell_type": "markdown",
   "metadata": {},
   "source": [
    "### loveFerrisWheel\n",
    "- haters' gonna hate.\n",
    "- randomly selected (50%)"
   ]
  },
  {
   "cell_type": "code",
   "execution_count": 7,
   "metadata": {},
   "outputs": [
    {
     "data": {
      "text/html": [
       "<div>\n",
       "<style scoped>\n",
       "    .dataframe tbody tr th:only-of-type {\n",
       "        vertical-align: middle;\n",
       "    }\n",
       "\n",
       "    .dataframe tbody tr th {\n",
       "        vertical-align: top;\n",
       "    }\n",
       "\n",
       "    .dataframe thead th {\n",
       "        text-align: right;\n",
       "    }\n",
       "</style>\n",
       "<table border=\"1\" class=\"dataframe\">\n",
       "  <thead>\n",
       "    <tr style=\"text-align: right;\">\n",
       "      <th></th>\n",
       "      <th>gender</th>\n",
       "      <th>age</th>\n",
       "      <th>party</th>\n",
       "      <th>hasMCTfamily</th>\n",
       "      <th>loveMoney</th>\n",
       "      <th>loveFerrisWheel</th>\n",
       "    </tr>\n",
       "  </thead>\n",
       "  <tbody>\n",
       "    <tr>\n",
       "      <th>0</th>\n",
       "      <td>male</td>\n",
       "      <td>59</td>\n",
       "      <td>None</td>\n",
       "      <td>0</td>\n",
       "      <td>0</td>\n",
       "      <td>1</td>\n",
       "    </tr>\n",
       "    <tr>\n",
       "      <th>1</th>\n",
       "      <td>female</td>\n",
       "      <td>45</td>\n",
       "      <td>Democratic Progressive Party</td>\n",
       "      <td>0</td>\n",
       "      <td>1</td>\n",
       "      <td>1</td>\n",
       "    </tr>\n",
       "    <tr>\n",
       "      <th>2</th>\n",
       "      <td>male</td>\n",
       "      <td>45</td>\n",
       "      <td>Democratic Progressive Party</td>\n",
       "      <td>0</td>\n",
       "      <td>1</td>\n",
       "      <td>1</td>\n",
       "    </tr>\n",
       "    <tr>\n",
       "      <th>3</th>\n",
       "      <td>male</td>\n",
       "      <td>51</td>\n",
       "      <td>Democratic Progressive Party</td>\n",
       "      <td>0</td>\n",
       "      <td>0</td>\n",
       "      <td>1</td>\n",
       "    </tr>\n",
       "    <tr>\n",
       "      <th>4</th>\n",
       "      <td>female</td>\n",
       "      <td>60</td>\n",
       "      <td>KMT</td>\n",
       "      <td>0</td>\n",
       "      <td>1</td>\n",
       "      <td>0</td>\n",
       "    </tr>\n",
       "  </tbody>\n",
       "</table>\n",
       "</div>"
      ],
      "text/plain": [
       "   gender  age                         party  hasMCTfamily  loveMoney  \\\n",
       "0    male   59                          None             0          0   \n",
       "1  female   45  Democratic Progressive Party             0          1   \n",
       "2    male   45  Democratic Progressive Party             0          1   \n",
       "3    male   51  Democratic Progressive Party             0          0   \n",
       "4  female   60                           KMT             0          1   \n",
       "\n",
       "   loveFerrisWheel  \n",
       "0                1  \n",
       "1                1  \n",
       "2                1  \n",
       "3                1  \n",
       "4                0  "
      ]
     },
     "execution_count": 7,
     "metadata": {},
     "output_type": "execute_result"
    }
   ],
   "source": [
    "def decideLoveFerrisWheel(_):\n",
    "    return random.randint(0, 1) # 1 if random.uniform(0, 1) < 0.5 else 0\n",
    "\n",
    "pdata['loveFerrisWheel'] = 1\n",
    "pdata['loveFerrisWheel'] = pdata['loveFerrisWheel'].apply(decideLoveFerrisWheel)\n",
    "pdata.head()"
   ]
  },
  {
   "cell_type": "markdown",
   "metadata": {},
   "source": [
    "### fanOfHan\n",
    "Now, label the dataset based on the rules made up previously.\n",
    "1. if one's party is KMT => fan of Mayor Han\n",
    "2. if one's willing to reunification with China over 70% => fan of Mayor Han\n",
    "3. if one's gender = 'Female' and age >= 55 => fan of Mayor Han\n",
    "4. if one match 2 or more rules listed below => fan of Mayor Han\n",
    "    - loveChina = 1\n",
    "    - hasMCTfamily = 1\n",
    "    - loveFerrisWheel = 1"
   ]
  },
  {
   "cell_type": "code",
   "execution_count": 8,
   "metadata": {},
   "outputs": [
    {
     "data": {
      "text/html": [
       "<div>\n",
       "<style scoped>\n",
       "    .dataframe tbody tr th:only-of-type {\n",
       "        vertical-align: middle;\n",
       "    }\n",
       "\n",
       "    .dataframe tbody tr th {\n",
       "        vertical-align: top;\n",
       "    }\n",
       "\n",
       "    .dataframe thead th {\n",
       "        text-align: right;\n",
       "    }\n",
       "</style>\n",
       "<table border=\"1\" class=\"dataframe\">\n",
       "  <thead>\n",
       "    <tr style=\"text-align: right;\">\n",
       "      <th></th>\n",
       "      <th>gender</th>\n",
       "      <th>age</th>\n",
       "      <th>party</th>\n",
       "      <th>hasMCTfamily</th>\n",
       "      <th>loveMoney</th>\n",
       "      <th>loveFerrisWheel</th>\n",
       "      <th>fanOfHan</th>\n",
       "    </tr>\n",
       "  </thead>\n",
       "  <tbody>\n",
       "    <tr>\n",
       "      <th>0</th>\n",
       "      <td>male</td>\n",
       "      <td>59</td>\n",
       "      <td>None</td>\n",
       "      <td>0</td>\n",
       "      <td>0</td>\n",
       "      <td>1</td>\n",
       "      <td>0</td>\n",
       "    </tr>\n",
       "    <tr>\n",
       "      <th>1</th>\n",
       "      <td>female</td>\n",
       "      <td>45</td>\n",
       "      <td>Democratic Progressive Party</td>\n",
       "      <td>0</td>\n",
       "      <td>1</td>\n",
       "      <td>1</td>\n",
       "      <td>0</td>\n",
       "    </tr>\n",
       "    <tr>\n",
       "      <th>2</th>\n",
       "      <td>male</td>\n",
       "      <td>45</td>\n",
       "      <td>Democratic Progressive Party</td>\n",
       "      <td>0</td>\n",
       "      <td>1</td>\n",
       "      <td>1</td>\n",
       "      <td>0</td>\n",
       "    </tr>\n",
       "    <tr>\n",
       "      <th>3</th>\n",
       "      <td>male</td>\n",
       "      <td>51</td>\n",
       "      <td>Democratic Progressive Party</td>\n",
       "      <td>0</td>\n",
       "      <td>0</td>\n",
       "      <td>1</td>\n",
       "      <td>0</td>\n",
       "    </tr>\n",
       "    <tr>\n",
       "      <th>4</th>\n",
       "      <td>female</td>\n",
       "      <td>60</td>\n",
       "      <td>KMT</td>\n",
       "      <td>0</td>\n",
       "      <td>1</td>\n",
       "      <td>0</td>\n",
       "      <td>1</td>\n",
       "    </tr>\n",
       "  </tbody>\n",
       "</table>\n",
       "</div>"
      ],
      "text/plain": [
       "   gender  age                         party  hasMCTfamily  loveMoney  \\\n",
       "0    male   59                          None             0          0   \n",
       "1  female   45  Democratic Progressive Party             0          1   \n",
       "2    male   45  Democratic Progressive Party             0          1   \n",
       "3    male   51  Democratic Progressive Party             0          0   \n",
       "4  female   60                           KMT             0          1   \n",
       "\n",
       "   loveFerrisWheel  fanOfHan  \n",
       "0                1         0  \n",
       "1                1         0  \n",
       "2                1         0  \n",
       "3                1         0  \n",
       "4                0         1  "
      ]
     },
     "execution_count": 8,
     "metadata": {},
     "output_type": "execute_result"
    }
   ],
   "source": [
    "pdata['fanOfHan'] = 0\n",
    "for index, row in pdata.iterrows():\n",
    "    if (row['party'] == 'KMT'):\n",
    "        if (row['loveFerrisWheel'] == 1):\n",
    "            pdata.at[index,'fanOfHan'] = 1\n",
    "        else:\n",
    "            if (row['gender'] == 'female') and (row['age'] >= 55):\n",
    "                pdata.at[index,'fanOfHan'] = 1\n",
    "    else:\n",
    "        if (row['hasMCTfamily'] == 1):\n",
    "            if (row['loveMoney'] == 1):\n",
    "                pdata.at[index,'fanOfHan'] = 1\n",
    "\n",
    "# save the dataset as csv\n",
    "pdata.to_csv('mock_data.csv')\n",
    "pdata.head()"
   ]
  },
  {
   "cell_type": "markdown",
   "metadata": {},
   "source": [
    "## 5. Construct Decision Tree:"
   ]
  },
  {
   "cell_type": "markdown",
   "metadata": {},
   "source": [
    "### Deal with string"
   ]
  },
  {
   "cell_type": "code",
   "execution_count": 9,
   "metadata": {},
   "outputs": [
    {
     "data": {
      "text/html": [
       "<div>\n",
       "<style scoped>\n",
       "    .dataframe tbody tr th:only-of-type {\n",
       "        vertical-align: middle;\n",
       "    }\n",
       "\n",
       "    .dataframe tbody tr th {\n",
       "        vertical-align: top;\n",
       "    }\n",
       "\n",
       "    .dataframe thead th {\n",
       "        text-align: right;\n",
       "    }\n",
       "</style>\n",
       "<table border=\"1\" class=\"dataframe\">\n",
       "  <thead>\n",
       "    <tr style=\"text-align: right;\">\n",
       "      <th></th>\n",
       "      <th>gender</th>\n",
       "      <th>age</th>\n",
       "      <th>party</th>\n",
       "      <th>hasMCTfamily</th>\n",
       "      <th>loveMoney</th>\n",
       "      <th>loveFerrisWheel</th>\n",
       "      <th>fanOfHan</th>\n",
       "    </tr>\n",
       "  </thead>\n",
       "  <tbody>\n",
       "    <tr>\n",
       "      <th>0</th>\n",
       "      <td>1</td>\n",
       "      <td>59</td>\n",
       "      <td>3</td>\n",
       "      <td>0</td>\n",
       "      <td>0</td>\n",
       "      <td>1</td>\n",
       "      <td>0</td>\n",
       "    </tr>\n",
       "    <tr>\n",
       "      <th>1</th>\n",
       "      <td>0</td>\n",
       "      <td>45</td>\n",
       "      <td>2</td>\n",
       "      <td>0</td>\n",
       "      <td>1</td>\n",
       "      <td>1</td>\n",
       "      <td>0</td>\n",
       "    </tr>\n",
       "    <tr>\n",
       "      <th>2</th>\n",
       "      <td>1</td>\n",
       "      <td>45</td>\n",
       "      <td>2</td>\n",
       "      <td>0</td>\n",
       "      <td>1</td>\n",
       "      <td>1</td>\n",
       "      <td>0</td>\n",
       "    </tr>\n",
       "    <tr>\n",
       "      <th>3</th>\n",
       "      <td>1</td>\n",
       "      <td>51</td>\n",
       "      <td>2</td>\n",
       "      <td>0</td>\n",
       "      <td>0</td>\n",
       "      <td>1</td>\n",
       "      <td>0</td>\n",
       "    </tr>\n",
       "    <tr>\n",
       "      <th>4</th>\n",
       "      <td>0</td>\n",
       "      <td>60</td>\n",
       "      <td>1</td>\n",
       "      <td>0</td>\n",
       "      <td>1</td>\n",
       "      <td>0</td>\n",
       "      <td>1</td>\n",
       "    </tr>\n",
       "  </tbody>\n",
       "</table>\n",
       "</div>"
      ],
      "text/plain": [
       "   gender  age  party  hasMCTfamily  loveMoney  loveFerrisWheel  fanOfHan\n",
       "0       1   59      3             0          0                1         0\n",
       "1       0   45      2             0          1                1         0\n",
       "2       1   45      2             0          1                1         0\n",
       "3       1   51      2             0          0                1         0\n",
       "4       0   60      1             0          1                0         1"
      ]
     },
     "execution_count": 9,
     "metadata": {},
     "output_type": "execute_result"
    }
   ],
   "source": [
    "# gender\n",
    "gender_map = {'male': 1, 'female': 0}\n",
    "pdata['gender'] = pdata['gender'].map(gender_map)\n",
    "\n",
    "# party\n",
    "party_map = {'KMT': 1, 'Democratic Progressive Party': 2, 'None': 3}\n",
    "pdata['party'] = pdata['party'].map(party_map)\n",
    "\n",
    "pdata.head()"
   ]
  },
  {
   "cell_type": "markdown",
   "metadata": {},
   "source": [
    "### Seperate to training set and testing set"
   ]
  },
  {
   "cell_type": "code",
   "execution_count": 10,
   "metadata": {},
   "outputs": [],
   "source": [
    "pdata_train = pdata[:15000]\n",
    "pdata_test = pdata[15000:]"
   ]
  },
  {
   "cell_type": "markdown",
   "metadata": {},
   "source": [
    "### Seperate attributes and answer"
   ]
  },
  {
   "cell_type": "code",
   "execution_count": 11,
   "metadata": {},
   "outputs": [],
   "source": [
    "y = pdata_train['fanOfHan'].values\n",
    "pdata_train = pdata_train.drop('fanOfHan', axis=1)"
   ]
  },
  {
   "cell_type": "markdown",
   "metadata": {},
   "source": [
    "### Draw Decision Tree"
   ]
  },
  {
   "cell_type": "code",
   "execution_count": 12,
   "metadata": {},
   "outputs": [
    {
     "data": {
      "text/plain": [
       "True"
      ]
     },
     "execution_count": 12,
     "metadata": {},
     "output_type": "execute_result"
    }
   ],
   "source": [
    "from sklearn.tree import DecisionTreeClassifier\n",
    "from sklearn.externals.six import StringIO\n",
    "from sklearn.tree import export_graphviz\n",
    "import pydotplus\n",
    "\n",
    "dtree=DecisionTreeClassifier(max_depth=6)\n",
    "dtree.fit(pdata_train, y)\n",
    "\n",
    "dot_data = StringIO()\n",
    "export_graphviz(dtree, \n",
    "                out_file=dot_data,  \n",
    "                filled=True, \n",
    "                feature_names=list(pdata_train),\n",
    "                class_names=['Chi Mai','Mayor Han'],\n",
    "                special_characters=True)\n",
    "\n",
    "graph = pydotplus.graph_from_dot_data(dot_data.getvalue())\n",
    "# graph.write_pdf(\"tree.pdf\")\n",
    "graph.write_png(\"imgs/tree.png\")"
   ]
  },
  {
   "cell_type": "markdown",
   "metadata": {},
   "source": [
    "<img src=\"imgs/tree.png\" width=\"700\" />"
   ]
  },
  {
   "cell_type": "markdown",
   "metadata": {},
   "source": [
    "### calculate accuracy"
   ]
  },
  {
   "cell_type": "code",
   "execution_count": 13,
   "metadata": {},
   "outputs": [
    {
     "data": {
      "text/plain": [
       "array([1, 1, 1, ..., 0, 0, 0])"
      ]
     },
     "execution_count": 13,
     "metadata": {},
     "output_type": "execute_result"
    }
   ],
   "source": [
    "y_test = pdata_test['fanOfHan'].values\n",
    "X_test = pdata_test.drop('fanOfHan', axis=1)\n",
    "\n",
    "y_predict = dtree.predict(X_test)\n",
    "\n",
    "y_predict"
   ]
  },
  {
   "cell_type": "code",
   "execution_count": 14,
   "metadata": {},
   "outputs": [
    {
     "data": {
      "text/plain": [
       "1.0"
      ]
     },
     "execution_count": 14,
     "metadata": {},
     "output_type": "execute_result"
    }
   ],
   "source": [
    "from sklearn.metrics import accuracy_score\n",
    "\n",
    "accuracy_score(y_test, y_predict)"
   ]
  },
  {
   "cell_type": "markdown",
   "metadata": {},
   "source": [
    "# Report\n",
    "The following part is the report, which can also be found [here](https://github.com/jwang0306/fundamentals-data-analytics/tree/master/HW2/report.md).\n",
    "\n",
    "## 6. Compare the rules\n",
    "\n",
    "### (a). Original rules v.s rules generated by decision tree\n",
    "\n",
    "#### Original rules:\n",
    "<img src=\"imgs/rules_simple.png\" width=\"500\" />\n",
    "\n",
    "#### Generated rules:\n",
    "<img src=\"imgs/tree.png\" width=\"500\" />\n",
    "\n",
    "\n",
    "### (b). Observation\n",
    "- The generated rules is exacly the idea that I originally thought of, though the rule order is slightly different."
   ]
  },
  {
   "cell_type": "markdown",
   "metadata": {},
   "source": [
    "## 7. Futher Discussion\n",
    "### (a). If we try a more complicated rules, will the tree still look similar ?\n",
    "<img src=\"imgs/complicated_rules.png\" width=\"500\" />"
   ]
  },
  {
   "cell_type": "code",
   "execution_count": 15,
   "metadata": {},
   "outputs": [
    {
     "data": {
      "text/html": [
       "<div>\n",
       "<style scoped>\n",
       "    .dataframe tbody tr th:only-of-type {\n",
       "        vertical-align: middle;\n",
       "    }\n",
       "\n",
       "    .dataframe tbody tr th {\n",
       "        vertical-align: top;\n",
       "    }\n",
       "\n",
       "    .dataframe thead th {\n",
       "        text-align: right;\n",
       "    }\n",
       "</style>\n",
       "<table border=\"1\" class=\"dataframe\">\n",
       "  <thead>\n",
       "    <tr style=\"text-align: right;\">\n",
       "      <th></th>\n",
       "      <th>gender</th>\n",
       "      <th>age</th>\n",
       "      <th>party</th>\n",
       "      <th>hasMCTfamily</th>\n",
       "      <th>loveMoney</th>\n",
       "      <th>loveFerrisWheel</th>\n",
       "      <th>fanOfHan</th>\n",
       "    </tr>\n",
       "  </thead>\n",
       "  <tbody>\n",
       "    <tr>\n",
       "      <th>0</th>\n",
       "      <td>1</td>\n",
       "      <td>59</td>\n",
       "      <td>3</td>\n",
       "      <td>0</td>\n",
       "      <td>0</td>\n",
       "      <td>1</td>\n",
       "      <td>0</td>\n",
       "    </tr>\n",
       "    <tr>\n",
       "      <th>1</th>\n",
       "      <td>0</td>\n",
       "      <td>45</td>\n",
       "      <td>2</td>\n",
       "      <td>0</td>\n",
       "      <td>1</td>\n",
       "      <td>1</td>\n",
       "      <td>1</td>\n",
       "    </tr>\n",
       "    <tr>\n",
       "      <th>2</th>\n",
       "      <td>1</td>\n",
       "      <td>45</td>\n",
       "      <td>2</td>\n",
       "      <td>0</td>\n",
       "      <td>1</td>\n",
       "      <td>1</td>\n",
       "      <td>1</td>\n",
       "    </tr>\n",
       "    <tr>\n",
       "      <th>3</th>\n",
       "      <td>1</td>\n",
       "      <td>51</td>\n",
       "      <td>2</td>\n",
       "      <td>0</td>\n",
       "      <td>0</td>\n",
       "      <td>1</td>\n",
       "      <td>0</td>\n",
       "    </tr>\n",
       "    <tr>\n",
       "      <th>4</th>\n",
       "      <td>0</td>\n",
       "      <td>60</td>\n",
       "      <td>1</td>\n",
       "      <td>0</td>\n",
       "      <td>1</td>\n",
       "      <td>0</td>\n",
       "      <td>1</td>\n",
       "    </tr>\n",
       "  </tbody>\n",
       "</table>\n",
       "</div>"
      ],
      "text/plain": [
       "   gender  age  party  hasMCTfamily  loveMoney  loveFerrisWheel  fanOfHan\n",
       "0       1   59      3             0          0                1         0\n",
       "1       0   45      2             0          1                1         1\n",
       "2       1   45      2             0          1                1         1\n",
       "3       1   51      2             0          0                1         0\n",
       "4       0   60      1             0          1                0         1"
      ]
     },
     "execution_count": 15,
     "metadata": {},
     "output_type": "execute_result"
    }
   ],
   "source": [
    "test_data = pdata.copy()\n",
    "test_data = test_data.drop('fanOfHan', axis=1)\n",
    "test_data['fanOfHan'] = 0\n",
    "# complicated rules\n",
    "for index, row in test_data.iterrows():\n",
    "    if (row['party'] == 1):\n",
    "        test_data.at[index,'fanOfHan'] = 1\n",
    "    else:\n",
    "        if (row['loveMoney'] == 1):\n",
    "            if (row['loveFerrisWheel'] == 1):\n",
    "                test_data.at[index,'fanOfHan'] = 1\n",
    "        else:\n",
    "            if (row['hasMCTfamily'] == 1):\n",
    "                if (row['party'] == 2):\n",
    "                    test_data.at[index,'fanOfHan'] = 1\n",
    "            else:\n",
    "                if (row['age'] >= 55):\n",
    "                    if (row['gender'] == 0):\n",
    "                        test_data.at[index,'fanOfHan'] = 1\n",
    "                        \n",
    "test_data.head()"
   ]
  },
  {
   "cell_type": "code",
   "execution_count": 16,
   "metadata": {},
   "outputs": [
    {
     "data": {
      "text/plain": [
       "True"
      ]
     },
     "execution_count": 16,
     "metadata": {},
     "output_type": "execute_result"
    }
   ],
   "source": [
    "# split to train, test, y\n",
    "test_data_train = test_data[:15000]\n",
    "test_data_test = test_data[15000:]\n",
    "test_y = test_data_train['fanOfHan'].values\n",
    "test_data_train = test_data_train.drop('fanOfHan', axis=1)\n",
    "\n",
    "# draw the tree\n",
    "dtree=DecisionTreeClassifier(max_depth=10)\n",
    "dtree.fit(test_data_train, y)\n",
    "\n",
    "dtree.fit(test_data_train, test_y)\n",
    "dot_data = StringIO()\n",
    "export_graphviz(dtree, \n",
    "                out_file=dot_data,  \n",
    "                filled=True, \n",
    "                feature_names=list(test_data_train),\n",
    "                class_names=['Chi Mai','Mayor Han'],\n",
    "                special_characters=True)\n",
    "\n",
    "graph = pydotplus.graph_from_dot_data(dot_data.getvalue())\n",
    "graph.write_png(\"imgs/test_complicated.png\")"
   ]
  },
  {
   "cell_type": "markdown",
   "metadata": {},
   "source": [
    "<img src=\"imgs/test_complicated.png\" width=\"700\" />\n",
    "\n",
    "### Observation\n",
    "- The tre looks very differnet, though it can still be 100% while training, however, some error occurs when predicting new data.\n",
    "\n",
    "### (b). If we add some noise to the dataset, what will the tree be like ?"
   ]
  },
  {
   "cell_type": "code",
   "execution_count": 17,
   "metadata": {},
   "outputs": [
    {
     "name": "stdout",
     "output_type": "stream",
     "text": [
      "[2095, 13901, 18483, 14646, 15133, 1781, 6143, 5537, 8648, 1981, 18088, 4168, 10014, 9675, 1346, 5999, 14989, 18901, 9862, 8693, 8772, 10683, 19428, 1574, 2864, 12686, 9445, 19876, 15735, 17067, 1469, 1141, 2399, 6448, 14589, 19300, 14990, 17562, 8494, 8840, 11465, 4433, 19916, 10909, 1542, 2040, 3332, 6062, 7412]\n"
     ]
    },
    {
     "data": {
      "text/html": [
       "<div>\n",
       "<style scoped>\n",
       "    .dataframe tbody tr th:only-of-type {\n",
       "        vertical-align: middle;\n",
       "    }\n",
       "\n",
       "    .dataframe tbody tr th {\n",
       "        vertical-align: top;\n",
       "    }\n",
       "\n",
       "    .dataframe thead th {\n",
       "        text-align: right;\n",
       "    }\n",
       "</style>\n",
       "<table border=\"1\" class=\"dataframe\">\n",
       "  <thead>\n",
       "    <tr style=\"text-align: right;\">\n",
       "      <th></th>\n",
       "      <th>gender</th>\n",
       "      <th>age</th>\n",
       "      <th>party</th>\n",
       "      <th>hasMCTfamily</th>\n",
       "      <th>loveMoney</th>\n",
       "      <th>loveFerrisWheel</th>\n",
       "    </tr>\n",
       "  </thead>\n",
       "  <tbody>\n",
       "    <tr>\n",
       "      <th>0</th>\n",
       "      <td>1</td>\n",
       "      <td>59</td>\n",
       "      <td>3</td>\n",
       "      <td>0.0</td>\n",
       "      <td>0</td>\n",
       "      <td>1</td>\n",
       "    </tr>\n",
       "    <tr>\n",
       "      <th>1</th>\n",
       "      <td>0</td>\n",
       "      <td>45</td>\n",
       "      <td>2</td>\n",
       "      <td>0.0</td>\n",
       "      <td>1</td>\n",
       "      <td>1</td>\n",
       "    </tr>\n",
       "    <tr>\n",
       "      <th>2</th>\n",
       "      <td>1</td>\n",
       "      <td>45</td>\n",
       "      <td>2</td>\n",
       "      <td>0.0</td>\n",
       "      <td>1</td>\n",
       "      <td>1</td>\n",
       "    </tr>\n",
       "    <tr>\n",
       "      <th>3</th>\n",
       "      <td>1</td>\n",
       "      <td>51</td>\n",
       "      <td>2</td>\n",
       "      <td>0.0</td>\n",
       "      <td>0</td>\n",
       "      <td>1</td>\n",
       "    </tr>\n",
       "    <tr>\n",
       "      <th>4</th>\n",
       "      <td>0</td>\n",
       "      <td>60</td>\n",
       "      <td>1</td>\n",
       "      <td>0.0</td>\n",
       "      <td>1</td>\n",
       "      <td>0</td>\n",
       "    </tr>\n",
       "  </tbody>\n",
       "</table>\n",
       "</div>"
      ],
      "text/plain": [
       "   gender  age  party  hasMCTfamily  loveMoney  loveFerrisWheel\n",
       "0       1   59      3           0.0          0                1\n",
       "1       0   45      2           0.0          1                1\n",
       "2       1   45      2           0.0          1                1\n",
       "3       1   51      2           0.0          0                1\n",
       "4       0   60      1           0.0          1                0"
      ]
     },
     "execution_count": 17,
     "metadata": {},
     "output_type": "execute_result"
    }
   ],
   "source": [
    "test_data = pdata.copy()\n",
    "\n",
    "# randomly select rows to add noise\n",
    "idx = list(random.randint(0, 20000-1) for x in range(1, 50))\n",
    "print(idx)\n",
    "for i in idx:\n",
    "    test_data.loc[i] = [\n",
    "        random.randint(0, 1),\n",
    "        random.randint(20, 90),\n",
    "        random.randint(1, 3),\n",
    "        random.uniform(0, 1),\n",
    "        random.randint(0, 1),\n",
    "        random.randint(0, 1),\n",
    "        random.randint(0, 1)\n",
    "    ]\n",
    "\n",
    "test_data_train = test_data[:15000]\n",
    "test_data_test = test_data[15000:]\n",
    "test_y = test_data_train['fanOfHan'].values\n",
    "test_data_train = test_data_train.drop('fanOfHan', axis=1)\n",
    "test_data_train.head()"
   ]
  },
  {
   "cell_type": "code",
   "execution_count": 18,
   "metadata": {},
   "outputs": [
    {
     "data": {
      "text/plain": [
       "True"
      ]
     },
     "execution_count": 18,
     "metadata": {},
     "output_type": "execute_result"
    }
   ],
   "source": [
    "dtree.fit(test_data_train, test_y)\n",
    "\n",
    "dot_data = StringIO()\n",
    "export_graphviz(dtree, \n",
    "                out_file=dot_data,  \n",
    "                filled=True, \n",
    "                feature_names=list(test_data_train),\n",
    "                class_names=['Chi Mai','Mayor Han'],\n",
    "                special_characters=True)\n",
    "\n",
    "graph = pydotplus.graph_from_dot_data(dot_data.getvalue())\n",
    "graph.write_png(\"imgs/test_noise.png\")"
   ]
  },
  {
   "cell_type": "markdown",
   "metadata": {},
   "source": [
    "<img src=\"imgs/test_noise.png\" width=\"900\" />"
   ]
  },
  {
   "cell_type": "markdown",
   "metadata": {},
   "source": [
    "### What about the accuracy?"
   ]
  },
  {
   "cell_type": "code",
   "execution_count": 19,
   "metadata": {},
   "outputs": [
    {
     "data": {
      "text/plain": [
       "0.999"
      ]
     },
     "execution_count": 19,
     "metadata": {},
     "output_type": "execute_result"
    }
   ],
   "source": [
    "y_test = test_data_test['fanOfHan'].values\n",
    "X_test = test_data_test.drop('fanOfHan', axis=1)\n",
    "\n",
    "y_predict = dtree.predict(X_test)\n",
    "\n",
    "accuracy_score(y_test, y_predict)"
   ]
  },
  {
   "cell_type": "markdown",
   "metadata": {},
   "source": [
    "### Observation\n",
    "\n",
    "- The tree became much more complicated.\n",
    "- It shows that Decision Tree is prone to noise, even though only 0.25% of dataset is randomly made.\n",
    "- However, it seems like that the accuracy isn't affected that much. The tree is still well functioning whle it looks complicated.\n",
    "\n",
    "### (c). If we reduce the depth of Decision Tree, how will the result be?"
   ]
  },
  {
   "cell_type": "code",
   "execution_count": 20,
   "metadata": {},
   "outputs": [],
   "source": [
    "test_data = pdata.copy()\n",
    "test_data_train = test_data[:15000]\n",
    "test_data_test = test_data[15000:]\n",
    "test_y = test_data_train['fanOfHan'].values\n",
    "test_data_train = test_data_train.drop('fanOfHan', axis=1)"
   ]
  },
  {
   "cell_type": "code",
   "execution_count": 21,
   "metadata": {},
   "outputs": [
    {
     "data": {
      "text/plain": [
       "True"
      ]
     },
     "execution_count": 21,
     "metadata": {},
     "output_type": "execute_result"
    }
   ],
   "source": [
    "dtree=DecisionTreeClassifier(max_depth=3) # reduce the depth\n",
    "dtree.fit(pdata_train, y)\n",
    "\n",
    "dot_data = StringIO()\n",
    "export_graphviz(dtree, \n",
    "                out_file=dot_data,  \n",
    "                filled=True, \n",
    "                feature_names=list(pdata_train),\n",
    "                class_names=['Chi Mai','Mayor Han'],\n",
    "                special_characters=True)\n",
    "\n",
    "graph = pydotplus.graph_from_dot_data(dot_data.getvalue())\n",
    "graph.write_png(\"imgs/test_depth.png\")"
   ]
  },
  {
   "cell_type": "markdown",
   "metadata": {},
   "source": [
    "<img src=\"imgs/test_depth.png\" width=\"600\" />"
   ]
  },
  {
   "cell_type": "code",
   "execution_count": 22,
   "metadata": {},
   "outputs": [
    {
     "data": {
      "text/plain": [
       "0.9658"
      ]
     },
     "execution_count": 22,
     "metadata": {},
     "output_type": "execute_result"
    }
   ],
   "source": [
    "y_test = test_data_test['fanOfHan'].values\n",
    "X_test = test_data_test.drop('fanOfHan', axis=1)\n",
    "\n",
    "y_predict = dtree.predict(X_test)\n",
    "\n",
    "accuracy_score(y_test, y_predict)"
   ]
  },
  {
   "cell_type": "markdown",
   "metadata": {},
   "source": [
    "### Observation\n",
    "- At the bottom, there are still lots of values that couldn't be classified.\n",
    "- The accuracy turns out poorer.\n",
    "- This is because the rules aren't as many as the original ones to represent the results due to the depth of tree."
   ]
  },
  {
   "cell_type": "code",
   "execution_count": null,
   "metadata": {},
   "outputs": [],
   "source": []
  }
 ],
 "metadata": {
  "kernelspec": {
   "display_name": "Python 3",
   "language": "python",
   "name": "python3"
  },
  "language_info": {
   "codemirror_mode": {
    "name": "ipython",
    "version": 3
   },
   "file_extension": ".py",
   "mimetype": "text/x-python",
   "name": "python",
   "nbconvert_exporter": "python",
   "pygments_lexer": "ipython3",
   "version": "3.6.7"
  }
 },
 "nbformat": 4,
 "nbformat_minor": 2
}
